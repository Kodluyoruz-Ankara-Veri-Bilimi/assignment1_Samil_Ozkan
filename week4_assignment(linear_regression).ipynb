{
 "cells": [
  {
   "cell_type": "code",
   "execution_count": 1,
   "metadata": {},
   "outputs": [],
   "source": [
    "import numpy as np\n",
    "import pandas as pd \n",
    "from sklearn.model_selection import train_test_split, GridSearchCV,cross_val_score\n",
    "from sklearn.metrics import mean_squared_error, r2_score\n",
    "import matplotlib.pyplot as plt\n",
    "from sklearn.preprocessing import scale \n",
    "from sklearn import model_selection\n",
    "from sklearn.tree import DecisionTreeRegressor, DecisionTreeClassifier\n",
    "from sklearn.neighbors import KNeighborsRegressor\n",
    "from sklearn.ensemble import BaggingRegressor\n",
    "from sklearn import preprocessing\n",
    "from sklearn.preprocessing import StandardScaler\n",
    "\n",
    "from warnings import filterwarnings\n",
    "filterwarnings('ignore')\n"
   ]
  },
  {
   "cell_type": "code",
   "execution_count": 2,
   "metadata": {},
   "outputs": [
    {
     "data": {
      "text/html": [
       "<div>\n",
       "<style scoped>\n",
       "    .dataframe tbody tr th:only-of-type {\n",
       "        vertical-align: middle;\n",
       "    }\n",
       "\n",
       "    .dataframe tbody tr th {\n",
       "        vertical-align: top;\n",
       "    }\n",
       "\n",
       "    .dataframe thead th {\n",
       "        text-align: right;\n",
       "    }\n",
       "</style>\n",
       "<table border=\"1\" class=\"dataframe\">\n",
       "  <thead>\n",
       "    <tr style=\"text-align: right;\">\n",
       "      <th></th>\n",
       "      <th>ind_5</th>\n",
       "      <th>ind_6</th>\n",
       "      <th>ind_8</th>\n",
       "      <th>ind_9</th>\n",
       "      <th>ind_10</th>\n",
       "      <th>ind_12</th>\n",
       "      <th>ind_13</th>\n",
       "      <th>ind_14</th>\n",
       "      <th>ind_15</th>\n",
       "      <th>ind_16</th>\n",
       "      <th>...</th>\n",
       "      <th>ind_416</th>\n",
       "      <th>ind_418</th>\n",
       "      <th>ind_420</th>\n",
       "      <th>ind_422</th>\n",
       "      <th>ind_424</th>\n",
       "      <th>ind_426</th>\n",
       "      <th>ind_428</th>\n",
       "      <th>20_target</th>\n",
       "      <th>50_target</th>\n",
       "      <th>90_target</th>\n",
       "    </tr>\n",
       "  </thead>\n",
       "  <tbody>\n",
       "    <tr>\n",
       "      <th>0</th>\n",
       "      <td>19</td>\n",
       "      <td>17</td>\n",
       "      <td>100.0</td>\n",
       "      <td>85.714286</td>\n",
       "      <td>14.285714</td>\n",
       "      <td>72.363515</td>\n",
       "      <td>60.808814</td>\n",
       "      <td>23.80</td>\n",
       "      <td>17.62</td>\n",
       "      <td>11.73</td>\n",
       "      <td>...</td>\n",
       "      <td>-49.6</td>\n",
       "      <td>-54</td>\n",
       "      <td>-152</td>\n",
       "      <td>-353</td>\n",
       "      <td>1.0</td>\n",
       "      <td>0.498547</td>\n",
       "      <td>0.701906</td>\n",
       "      <td>15.135802</td>\n",
       "      <td>35.625252</td>\n",
       "      <td>36.997753</td>\n",
       "    </tr>\n",
       "    <tr>\n",
       "      <th>1</th>\n",
       "      <td>24</td>\n",
       "      <td>19</td>\n",
       "      <td>100.0</td>\n",
       "      <td>78.571429</td>\n",
       "      <td>21.428571</td>\n",
       "      <td>74.275883</td>\n",
       "      <td>64.366798</td>\n",
       "      <td>11.45</td>\n",
       "      <td>18.16</td>\n",
       "      <td>12.22</td>\n",
       "      <td>...</td>\n",
       "      <td>-55.6</td>\n",
       "      <td>-60</td>\n",
       "      <td>-158</td>\n",
       "      <td>-359</td>\n",
       "      <td>1.0</td>\n",
       "      <td>0.537088</td>\n",
       "      <td>0.690833</td>\n",
       "      <td>15.143348</td>\n",
       "      <td>35.643013</td>\n",
       "      <td>37.016198</td>\n",
       "    </tr>\n",
       "    <tr>\n",
       "      <th>2</th>\n",
       "      <td>30</td>\n",
       "      <td>24</td>\n",
       "      <td>100.0</td>\n",
       "      <td>71.428571</td>\n",
       "      <td>28.571429</td>\n",
       "      <td>75.140402</td>\n",
       "      <td>65.915803</td>\n",
       "      <td>8.75</td>\n",
       "      <td>17.86</td>\n",
       "      <td>12.28</td>\n",
       "      <td>...</td>\n",
       "      <td>-58.4</td>\n",
       "      <td>-60</td>\n",
       "      <td>-160</td>\n",
       "      <td>-362</td>\n",
       "      <td>1.0</td>\n",
       "      <td>0.615169</td>\n",
       "      <td>0.693040</td>\n",
       "      <td>15.146870</td>\n",
       "      <td>35.651301</td>\n",
       "      <td>-37.024805</td>\n",
       "    </tr>\n",
       "    <tr>\n",
       "      <th>3</th>\n",
       "      <td>37</td>\n",
       "      <td>30</td>\n",
       "      <td>100.0</td>\n",
       "      <td>64.285714</td>\n",
       "      <td>35.714286</td>\n",
       "      <td>76.677846</td>\n",
       "      <td>68.584234</td>\n",
       "      <td>7.80</td>\n",
       "      <td>14.76</td>\n",
       "      <td>12.61</td>\n",
       "      <td>...</td>\n",
       "      <td>-61.8</td>\n",
       "      <td>-65</td>\n",
       "      <td>-166</td>\n",
       "      <td>-367</td>\n",
       "      <td>1.0</td>\n",
       "      <td>0.661517</td>\n",
       "      <td>0.673418</td>\n",
       "      <td>15.153283</td>\n",
       "      <td>0.000000</td>\n",
       "      <td>-37.040483</td>\n",
       "    </tr>\n",
       "    <tr>\n",
       "      <th>4</th>\n",
       "      <td>41</td>\n",
       "      <td>37</td>\n",
       "      <td>100.0</td>\n",
       "      <td>57.142857</td>\n",
       "      <td>42.857143</td>\n",
       "      <td>81.603007</td>\n",
       "      <td>76.455495</td>\n",
       "      <td>14.90</td>\n",
       "      <td>11.92</td>\n",
       "      <td>14.25</td>\n",
       "      <td>...</td>\n",
       "      <td>-79.8</td>\n",
       "      <td>-86</td>\n",
       "      <td>-186</td>\n",
       "      <td>-388</td>\n",
       "      <td>1.0</td>\n",
       "      <td>0.747204</td>\n",
       "      <td>0.700522</td>\n",
       "      <td>-15.179065</td>\n",
       "      <td>-35.727079</td>\n",
       "      <td>-37.103503</td>\n",
       "    </tr>\n",
       "  </tbody>\n",
       "</table>\n",
       "<p>5 rows × 136 columns</p>\n",
       "</div>"
      ],
      "text/plain": [
       "   ind_5  ind_6  ind_8      ind_9     ind_10     ind_12     ind_13  ind_14  \\\n",
       "0     19     17  100.0  85.714286  14.285714  72.363515  60.808814   23.80   \n",
       "1     24     19  100.0  78.571429  21.428571  74.275883  64.366798   11.45   \n",
       "2     30     24  100.0  71.428571  28.571429  75.140402  65.915803    8.75   \n",
       "3     37     30  100.0  64.285714  35.714286  76.677846  68.584234    7.80   \n",
       "4     41     37  100.0  57.142857  42.857143  81.603007  76.455495   14.90   \n",
       "\n",
       "   ind_15  ind_16  ...  ind_416  ind_418  ind_420  ind_422  ind_424   ind_426  \\\n",
       "0   17.62   11.73  ...    -49.6      -54     -152     -353      1.0  0.498547   \n",
       "1   18.16   12.22  ...    -55.6      -60     -158     -359      1.0  0.537088   \n",
       "2   17.86   12.28  ...    -58.4      -60     -160     -362      1.0  0.615169   \n",
       "3   14.76   12.61  ...    -61.8      -65     -166     -367      1.0  0.661517   \n",
       "4   11.92   14.25  ...    -79.8      -86     -186     -388      1.0  0.747204   \n",
       "\n",
       "    ind_428  20_target  50_target  90_target  \n",
       "0  0.701906  15.135802  35.625252  36.997753  \n",
       "1  0.690833  15.143348  35.643013  37.016198  \n",
       "2  0.693040  15.146870  35.651301 -37.024805  \n",
       "3  0.673418  15.153283   0.000000 -37.040483  \n",
       "4  0.700522 -15.179065 -35.727079 -37.103503  \n",
       "\n",
       "[5 rows x 136 columns]"
      ]
     },
     "execution_count": 2,
     "metadata": {},
     "output_type": "execute_result"
    }
   ],
   "source": [
    "data = pd.read_excel (\"HW_Data_Set.xlsx\")\n",
    "df= data.copy()\n",
    "df = df.dropna()\n",
    "df.head()"
   ]
  },
  {
   "cell_type": "code",
   "execution_count": 3,
   "metadata": {},
   "outputs": [
    {
     "data": {
      "text/html": [
       "<div>\n",
       "<style scoped>\n",
       "    .dataframe tbody tr th:only-of-type {\n",
       "        vertical-align: middle;\n",
       "    }\n",
       "\n",
       "    .dataframe tbody tr th {\n",
       "        vertical-align: top;\n",
       "    }\n",
       "\n",
       "    .dataframe thead th {\n",
       "        text-align: right;\n",
       "    }\n",
       "</style>\n",
       "<table border=\"1\" class=\"dataframe\">\n",
       "  <thead>\n",
       "    <tr style=\"text-align: right;\">\n",
       "      <th></th>\n",
       "      <th>ind_109</th>\n",
       "      <th>ind_420</th>\n",
       "      <th>ind_422</th>\n",
       "    </tr>\n",
       "  </thead>\n",
       "  <tbody>\n",
       "    <tr>\n",
       "      <th>0</th>\n",
       "      <td>GREEN</td>\n",
       "      <td>-152</td>\n",
       "      <td>-353</td>\n",
       "    </tr>\n",
       "    <tr>\n",
       "      <th>1</th>\n",
       "      <td>GREEN</td>\n",
       "      <td>-158</td>\n",
       "      <td>-359</td>\n",
       "    </tr>\n",
       "    <tr>\n",
       "      <th>2</th>\n",
       "      <td>GREEN</td>\n",
       "      <td>-160</td>\n",
       "      <td>-362</td>\n",
       "    </tr>\n",
       "    <tr>\n",
       "      <th>3</th>\n",
       "      <td>GREEN</td>\n",
       "      <td>-166</td>\n",
       "      <td>-367</td>\n",
       "    </tr>\n",
       "    <tr>\n",
       "      <th>4</th>\n",
       "      <td>GREEN</td>\n",
       "      <td>-186</td>\n",
       "      <td>-388</td>\n",
       "    </tr>\n",
       "  </tbody>\n",
       "</table>\n",
       "</div>"
      ],
      "text/plain": [
       "  ind_109 ind_420 ind_422\n",
       "0   GREEN    -152    -353\n",
       "1   GREEN    -158    -359\n",
       "2   GREEN    -160    -362\n",
       "3   GREEN    -166    -367\n",
       "4   GREEN    -186    -388"
      ]
     },
     "execution_count": 3,
     "metadata": {},
     "output_type": "execute_result"
    }
   ],
   "source": [
    "# kategorik değişkenleri görmek istedim\n",
    "df_categorical = df.select_dtypes(include=['object'])\n",
    "df_categorical.head()"
   ]
  },
  {
   "cell_type": "code",
   "execution_count": 4,
   "metadata": {},
   "outputs": [
    {
     "data": {
      "text/plain": [
       "count     6167\n",
       "unique     582\n",
       "top          ?\n",
       "freq      1041\n",
       "Name: ind_420, dtype: object"
      ]
     },
     "execution_count": 4,
     "metadata": {},
     "output_type": "execute_result"
    }
   ],
   "source": [
    "# anlamlandırılamayan kategorik değişkenler\n",
    "df_categorical[\"ind_420\"].describe()"
   ]
  },
  {
   "cell_type": "code",
   "execution_count": 5,
   "metadata": {},
   "outputs": [
    {
     "data": {
      "text/html": [
       "<div>\n",
       "<style scoped>\n",
       "    .dataframe tbody tr th:only-of-type {\n",
       "        vertical-align: middle;\n",
       "    }\n",
       "\n",
       "    .dataframe tbody tr th {\n",
       "        vertical-align: top;\n",
       "    }\n",
       "\n",
       "    .dataframe thead th {\n",
       "        text-align: right;\n",
       "    }\n",
       "</style>\n",
       "<table border=\"1\" class=\"dataframe\">\n",
       "  <thead>\n",
       "    <tr style=\"text-align: right;\">\n",
       "      <th></th>\n",
       "      <th>ind_5</th>\n",
       "      <th>ind_6</th>\n",
       "      <th>ind_8</th>\n",
       "      <th>ind_9</th>\n",
       "      <th>ind_10</th>\n",
       "      <th>ind_12</th>\n",
       "      <th>ind_13</th>\n",
       "      <th>ind_14</th>\n",
       "      <th>ind_15</th>\n",
       "      <th>ind_16</th>\n",
       "      <th>...</th>\n",
       "      <th>ind_410</th>\n",
       "      <th>ind_412</th>\n",
       "      <th>ind_414</th>\n",
       "      <th>ind_416</th>\n",
       "      <th>ind_418</th>\n",
       "      <th>ind_424</th>\n",
       "      <th>ind_426</th>\n",
       "      <th>ind_428</th>\n",
       "      <th>90_target</th>\n",
       "      <th>new__RED</th>\n",
       "    </tr>\n",
       "  </thead>\n",
       "  <tbody>\n",
       "    <tr>\n",
       "      <th>0</th>\n",
       "      <td>19</td>\n",
       "      <td>17</td>\n",
       "      <td>100.0</td>\n",
       "      <td>85.714286</td>\n",
       "      <td>14.285714</td>\n",
       "      <td>72.363515</td>\n",
       "      <td>60.808814</td>\n",
       "      <td>23.80</td>\n",
       "      <td>17.62</td>\n",
       "      <td>11.73</td>\n",
       "      <td>...</td>\n",
       "      <td>-27</td>\n",
       "      <td>0.002371</td>\n",
       "      <td>2.0</td>\n",
       "      <td>-49.6</td>\n",
       "      <td>-54</td>\n",
       "      <td>1.0</td>\n",
       "      <td>0.498547</td>\n",
       "      <td>0.701906</td>\n",
       "      <td>36.997753</td>\n",
       "      <td>0</td>\n",
       "    </tr>\n",
       "    <tr>\n",
       "      <th>1</th>\n",
       "      <td>24</td>\n",
       "      <td>19</td>\n",
       "      <td>100.0</td>\n",
       "      <td>78.571429</td>\n",
       "      <td>21.428571</td>\n",
       "      <td>74.275883</td>\n",
       "      <td>64.366798</td>\n",
       "      <td>11.45</td>\n",
       "      <td>18.16</td>\n",
       "      <td>12.22</td>\n",
       "      <td>...</td>\n",
       "      <td>-31</td>\n",
       "      <td>0.003074</td>\n",
       "      <td>0.8</td>\n",
       "      <td>-55.6</td>\n",
       "      <td>-60</td>\n",
       "      <td>1.0</td>\n",
       "      <td>0.537088</td>\n",
       "      <td>0.690833</td>\n",
       "      <td>37.016198</td>\n",
       "      <td>0</td>\n",
       "    </tr>\n",
       "    <tr>\n",
       "      <th>2</th>\n",
       "      <td>30</td>\n",
       "      <td>24</td>\n",
       "      <td>100.0</td>\n",
       "      <td>71.428571</td>\n",
       "      <td>28.571429</td>\n",
       "      <td>75.140402</td>\n",
       "      <td>65.915803</td>\n",
       "      <td>8.75</td>\n",
       "      <td>17.86</td>\n",
       "      <td>12.28</td>\n",
       "      <td>...</td>\n",
       "      <td>-30</td>\n",
       "      <td>0.003561</td>\n",
       "      <td>2.7</td>\n",
       "      <td>-58.4</td>\n",
       "      <td>-60</td>\n",
       "      <td>1.0</td>\n",
       "      <td>0.615169</td>\n",
       "      <td>0.693040</td>\n",
       "      <td>-37.024805</td>\n",
       "      <td>0</td>\n",
       "    </tr>\n",
       "    <tr>\n",
       "      <th>3</th>\n",
       "      <td>37</td>\n",
       "      <td>30</td>\n",
       "      <td>100.0</td>\n",
       "      <td>64.285714</td>\n",
       "      <td>35.714286</td>\n",
       "      <td>76.677846</td>\n",
       "      <td>68.584234</td>\n",
       "      <td>7.80</td>\n",
       "      <td>14.76</td>\n",
       "      <td>12.61</td>\n",
       "      <td>...</td>\n",
       "      <td>-30</td>\n",
       "      <td>0.004366</td>\n",
       "      <td>0.9</td>\n",
       "      <td>-61.8</td>\n",
       "      <td>-65</td>\n",
       "      <td>1.0</td>\n",
       "      <td>0.661517</td>\n",
       "      <td>0.673418</td>\n",
       "      <td>-37.040483</td>\n",
       "      <td>0</td>\n",
       "    </tr>\n",
       "    <tr>\n",
       "      <th>4</th>\n",
       "      <td>41</td>\n",
       "      <td>37</td>\n",
       "      <td>100.0</td>\n",
       "      <td>57.142857</td>\n",
       "      <td>42.857143</td>\n",
       "      <td>81.603007</td>\n",
       "      <td>76.455495</td>\n",
       "      <td>14.90</td>\n",
       "      <td>11.92</td>\n",
       "      <td>14.25</td>\n",
       "      <td>...</td>\n",
       "      <td>-45</td>\n",
       "      <td>0.004198</td>\n",
       "      <td>0.1</td>\n",
       "      <td>-79.8</td>\n",
       "      <td>-86</td>\n",
       "      <td>1.0</td>\n",
       "      <td>0.747204</td>\n",
       "      <td>0.700522</td>\n",
       "      <td>-37.103503</td>\n",
       "      <td>0</td>\n",
       "    </tr>\n",
       "  </tbody>\n",
       "</table>\n",
       "<p>5 rows × 132 columns</p>\n",
       "</div>"
      ],
      "text/plain": [
       "   ind_5  ind_6  ind_8      ind_9     ind_10     ind_12     ind_13  ind_14  \\\n",
       "0     19     17  100.0  85.714286  14.285714  72.363515  60.808814   23.80   \n",
       "1     24     19  100.0  78.571429  21.428571  74.275883  64.366798   11.45   \n",
       "2     30     24  100.0  71.428571  28.571429  75.140402  65.915803    8.75   \n",
       "3     37     30  100.0  64.285714  35.714286  76.677846  68.584234    7.80   \n",
       "4     41     37  100.0  57.142857  42.857143  81.603007  76.455495   14.90   \n",
       "\n",
       "   ind_15  ind_16  ...  ind_410   ind_412  ind_414  ind_416  ind_418  ind_424  \\\n",
       "0   17.62   11.73  ...      -27  0.002371      2.0    -49.6      -54      1.0   \n",
       "1   18.16   12.22  ...      -31  0.003074      0.8    -55.6      -60      1.0   \n",
       "2   17.86   12.28  ...      -30  0.003561      2.7    -58.4      -60      1.0   \n",
       "3   14.76   12.61  ...      -30  0.004366      0.9    -61.8      -65      1.0   \n",
       "4   11.92   14.25  ...      -45  0.004198      0.1    -79.8      -86      1.0   \n",
       "\n",
       "    ind_426   ind_428  90_target  new__RED  \n",
       "0  0.498547  0.701906  36.997753         0  \n",
       "1  0.537088  0.690833  37.016198         0  \n",
       "2  0.615169  0.693040 -37.024805         0  \n",
       "3  0.661517  0.673418 -37.040483         0  \n",
       "4  0.747204  0.700522 -37.103503         0  \n",
       "\n",
       "[5 rows x 132 columns]"
      ]
     },
     "execution_count": 5,
     "metadata": {},
     "output_type": "execute_result"
    }
   ],
   "source": [
    "# kategorik değişkenlerden iki tanesini anlamlandıramadım(ind_420,ind_422) ??\n",
    "df_encoded = pd.get_dummies(df, columns = [\"ind_109\"], prefix = [\"new_\"],drop_first=True)\n",
    "df_encoded = df_encoded.drop([\"ind_420\",\"ind_422\",\"20_target\",\"50_target\"],axis=1)\n",
    "df_encoded.head()"
   ]
  },
  {
   "cell_type": "code",
   "execution_count": 6,
   "metadata": {},
   "outputs": [
    {
     "data": {
      "text/html": [
       "<div>\n",
       "<style scoped>\n",
       "    .dataframe tbody tr th:only-of-type {\n",
       "        vertical-align: middle;\n",
       "    }\n",
       "\n",
       "    .dataframe tbody tr th {\n",
       "        vertical-align: top;\n",
       "    }\n",
       "\n",
       "    .dataframe thead th {\n",
       "        text-align: right;\n",
       "    }\n",
       "</style>\n",
       "<table border=\"1\" class=\"dataframe\">\n",
       "  <thead>\n",
       "    <tr style=\"text-align: right;\">\n",
       "      <th></th>\n",
       "      <th>ind_5</th>\n",
       "      <th>ind_6</th>\n",
       "      <th>ind_8</th>\n",
       "      <th>ind_9</th>\n",
       "      <th>ind_10</th>\n",
       "      <th>ind_12</th>\n",
       "      <th>ind_13</th>\n",
       "      <th>ind_14</th>\n",
       "      <th>ind_15</th>\n",
       "      <th>ind_16</th>\n",
       "      <th>...</th>\n",
       "      <th>ind_410</th>\n",
       "      <th>ind_412</th>\n",
       "      <th>ind_414</th>\n",
       "      <th>ind_416</th>\n",
       "      <th>ind_418</th>\n",
       "      <th>ind_424</th>\n",
       "      <th>ind_426</th>\n",
       "      <th>ind_428</th>\n",
       "      <th>90_target</th>\n",
       "      <th>new__RED</th>\n",
       "    </tr>\n",
       "  </thead>\n",
       "  <tbody>\n",
       "    <tr>\n",
       "      <th>ind_5</th>\n",
       "      <td>1.000000</td>\n",
       "      <td>0.989945</td>\n",
       "      <td>0.543246</td>\n",
       "      <td>0.533328</td>\n",
       "      <td>0.649225</td>\n",
       "      <td>0.822255</td>\n",
       "      <td>0.768234</td>\n",
       "      <td>0.014502</td>\n",
       "      <td>0.026336</td>\n",
       "      <td>0.041130</td>\n",
       "      <td>...</td>\n",
       "      <td>0.393843</td>\n",
       "      <td>0.620106</td>\n",
       "      <td>0.694619</td>\n",
       "      <td>0.304134</td>\n",
       "      <td>0.620099</td>\n",
       "      <td>0.076169</td>\n",
       "      <td>0.626439</td>\n",
       "      <td>0.817302</td>\n",
       "      <td>0.060428</td>\n",
       "      <td>0.105511</td>\n",
       "    </tr>\n",
       "    <tr>\n",
       "      <th>ind_6</th>\n",
       "      <td>0.989945</td>\n",
       "      <td>1.000000</td>\n",
       "      <td>0.514222</td>\n",
       "      <td>0.495572</td>\n",
       "      <td>0.608947</td>\n",
       "      <td>0.768551</td>\n",
       "      <td>0.713870</td>\n",
       "      <td>0.006066</td>\n",
       "      <td>0.019393</td>\n",
       "      <td>0.035795</td>\n",
       "      <td>...</td>\n",
       "      <td>0.280376</td>\n",
       "      <td>0.634679</td>\n",
       "      <td>0.646983</td>\n",
       "      <td>0.279922</td>\n",
       "      <td>0.569657</td>\n",
       "      <td>0.021220</td>\n",
       "      <td>0.567359</td>\n",
       "      <td>0.810371</td>\n",
       "      <td>0.061560</td>\n",
       "      <td>0.027591</td>\n",
       "    </tr>\n",
       "    <tr>\n",
       "      <th>ind_8</th>\n",
       "      <td>0.543246</td>\n",
       "      <td>0.514222</td>\n",
       "      <td>1.000000</td>\n",
       "      <td>0.374857</td>\n",
       "      <td>0.828650</td>\n",
       "      <td>0.583623</td>\n",
       "      <td>0.482220</td>\n",
       "      <td>0.162635</td>\n",
       "      <td>0.139612</td>\n",
       "      <td>0.038862</td>\n",
       "      <td>...</td>\n",
       "      <td>0.370345</td>\n",
       "      <td>0.275687</td>\n",
       "      <td>0.489596</td>\n",
       "      <td>0.277258</td>\n",
       "      <td>0.432579</td>\n",
       "      <td>0.144795</td>\n",
       "      <td>0.593799</td>\n",
       "      <td>0.445427</td>\n",
       "      <td>0.006650</td>\n",
       "      <td>0.177101</td>\n",
       "    </tr>\n",
       "    <tr>\n",
       "      <th>ind_9</th>\n",
       "      <td>0.533328</td>\n",
       "      <td>0.495572</td>\n",
       "      <td>0.374857</td>\n",
       "      <td>1.000000</td>\n",
       "      <td>0.829576</td>\n",
       "      <td>0.609288</td>\n",
       "      <td>0.568581</td>\n",
       "      <td>0.238938</td>\n",
       "      <td>0.240048</td>\n",
       "      <td>0.152133</td>\n",
       "      <td>...</td>\n",
       "      <td>0.426831</td>\n",
       "      <td>0.276882</td>\n",
       "      <td>0.436275</td>\n",
       "      <td>0.349318</td>\n",
       "      <td>0.505772</td>\n",
       "      <td>0.173139</td>\n",
       "      <td>0.631961</td>\n",
       "      <td>0.450719</td>\n",
       "      <td>0.012093</td>\n",
       "      <td>0.206484</td>\n",
       "    </tr>\n",
       "    <tr>\n",
       "      <th>ind_10</th>\n",
       "      <td>0.649225</td>\n",
       "      <td>0.608947</td>\n",
       "      <td>0.828650</td>\n",
       "      <td>0.829576</td>\n",
       "      <td>1.000000</td>\n",
       "      <td>0.719409</td>\n",
       "      <td>0.633753</td>\n",
       "      <td>0.046312</td>\n",
       "      <td>0.060849</td>\n",
       "      <td>0.068450</td>\n",
       "      <td>...</td>\n",
       "      <td>0.480781</td>\n",
       "      <td>0.333229</td>\n",
       "      <td>0.558311</td>\n",
       "      <td>0.377913</td>\n",
       "      <td>0.565931</td>\n",
       "      <td>0.191752</td>\n",
       "      <td>0.739227</td>\n",
       "      <td>0.540428</td>\n",
       "      <td>0.011307</td>\n",
       "      <td>0.231345</td>\n",
       "    </tr>\n",
       "    <tr>\n",
       "      <th>...</th>\n",
       "      <td>...</td>\n",
       "      <td>...</td>\n",
       "      <td>...</td>\n",
       "      <td>...</td>\n",
       "      <td>...</td>\n",
       "      <td>...</td>\n",
       "      <td>...</td>\n",
       "      <td>...</td>\n",
       "      <td>...</td>\n",
       "      <td>...</td>\n",
       "      <td>...</td>\n",
       "      <td>...</td>\n",
       "      <td>...</td>\n",
       "      <td>...</td>\n",
       "      <td>...</td>\n",
       "      <td>...</td>\n",
       "      <td>...</td>\n",
       "      <td>...</td>\n",
       "      <td>...</td>\n",
       "      <td>...</td>\n",
       "      <td>...</td>\n",
       "    </tr>\n",
       "    <tr>\n",
       "      <th>ind_424</th>\n",
       "      <td>0.076169</td>\n",
       "      <td>0.021220</td>\n",
       "      <td>0.144795</td>\n",
       "      <td>0.173139</td>\n",
       "      <td>0.191752</td>\n",
       "      <td>0.385101</td>\n",
       "      <td>0.354028</td>\n",
       "      <td>0.011056</td>\n",
       "      <td>0.010548</td>\n",
       "      <td>0.013790</td>\n",
       "      <td>...</td>\n",
       "      <td>0.515309</td>\n",
       "      <td>0.027318</td>\n",
       "      <td>0.269870</td>\n",
       "      <td>0.136217</td>\n",
       "      <td>0.293695</td>\n",
       "      <td>1.000000</td>\n",
       "      <td>0.341017</td>\n",
       "      <td>0.188853</td>\n",
       "      <td>0.007689</td>\n",
       "      <td>0.507821</td>\n",
       "    </tr>\n",
       "    <tr>\n",
       "      <th>ind_426</th>\n",
       "      <td>0.626439</td>\n",
       "      <td>0.567359</td>\n",
       "      <td>0.593799</td>\n",
       "      <td>0.631961</td>\n",
       "      <td>0.739227</td>\n",
       "      <td>0.776076</td>\n",
       "      <td>0.700736</td>\n",
       "      <td>0.066201</td>\n",
       "      <td>0.066437</td>\n",
       "      <td>0.051049</td>\n",
       "      <td>...</td>\n",
       "      <td>0.642797</td>\n",
       "      <td>0.293592</td>\n",
       "      <td>0.571432</td>\n",
       "      <td>0.356302</td>\n",
       "      <td>0.594243</td>\n",
       "      <td>0.341017</td>\n",
       "      <td>1.000000</td>\n",
       "      <td>0.584754</td>\n",
       "      <td>0.002519</td>\n",
       "      <td>0.307789</td>\n",
       "    </tr>\n",
       "    <tr>\n",
       "      <th>ind_428</th>\n",
       "      <td>0.817302</td>\n",
       "      <td>0.810371</td>\n",
       "      <td>0.445427</td>\n",
       "      <td>0.450719</td>\n",
       "      <td>0.540428</td>\n",
       "      <td>0.807595</td>\n",
       "      <td>0.727899</td>\n",
       "      <td>0.021970</td>\n",
       "      <td>0.016318</td>\n",
       "      <td>0.010361</td>\n",
       "      <td>...</td>\n",
       "      <td>0.392409</td>\n",
       "      <td>0.574646</td>\n",
       "      <td>0.499656</td>\n",
       "      <td>0.260048</td>\n",
       "      <td>0.487564</td>\n",
       "      <td>0.188853</td>\n",
       "      <td>0.584754</td>\n",
       "      <td>1.000000</td>\n",
       "      <td>0.043563</td>\n",
       "      <td>0.175658</td>\n",
       "    </tr>\n",
       "    <tr>\n",
       "      <th>90_target</th>\n",
       "      <td>0.060428</td>\n",
       "      <td>0.061560</td>\n",
       "      <td>0.006650</td>\n",
       "      <td>0.012093</td>\n",
       "      <td>0.011307</td>\n",
       "      <td>0.043786</td>\n",
       "      <td>0.043491</td>\n",
       "      <td>0.077710</td>\n",
       "      <td>0.088271</td>\n",
       "      <td>0.108077</td>\n",
       "      <td>...</td>\n",
       "      <td>0.021083</td>\n",
       "      <td>0.124265</td>\n",
       "      <td>0.018379</td>\n",
       "      <td>0.049615</td>\n",
       "      <td>0.096903</td>\n",
       "      <td>0.007689</td>\n",
       "      <td>0.002519</td>\n",
       "      <td>0.043563</td>\n",
       "      <td>1.000000</td>\n",
       "      <td>0.019559</td>\n",
       "    </tr>\n",
       "    <tr>\n",
       "      <th>new__RED</th>\n",
       "      <td>0.105511</td>\n",
       "      <td>0.027591</td>\n",
       "      <td>0.177101</td>\n",
       "      <td>0.206484</td>\n",
       "      <td>0.231345</td>\n",
       "      <td>0.438990</td>\n",
       "      <td>0.397109</td>\n",
       "      <td>0.023615</td>\n",
       "      <td>0.011598</td>\n",
       "      <td>0.008627</td>\n",
       "      <td>...</td>\n",
       "      <td>0.617948</td>\n",
       "      <td>0.012824</td>\n",
       "      <td>0.301886</td>\n",
       "      <td>0.169441</td>\n",
       "      <td>0.326720</td>\n",
       "      <td>0.507821</td>\n",
       "      <td>0.307789</td>\n",
       "      <td>0.175658</td>\n",
       "      <td>0.019559</td>\n",
       "      <td>1.000000</td>\n",
       "    </tr>\n",
       "  </tbody>\n",
       "</table>\n",
       "<p>132 rows × 132 columns</p>\n",
       "</div>"
      ],
      "text/plain": [
       "              ind_5     ind_6     ind_8     ind_9    ind_10    ind_12  \\\n",
       "ind_5      1.000000  0.989945  0.543246  0.533328  0.649225  0.822255   \n",
       "ind_6      0.989945  1.000000  0.514222  0.495572  0.608947  0.768551   \n",
       "ind_8      0.543246  0.514222  1.000000  0.374857  0.828650  0.583623   \n",
       "ind_9      0.533328  0.495572  0.374857  1.000000  0.829576  0.609288   \n",
       "ind_10     0.649225  0.608947  0.828650  0.829576  1.000000  0.719409   \n",
       "...             ...       ...       ...       ...       ...       ...   \n",
       "ind_424    0.076169  0.021220  0.144795  0.173139  0.191752  0.385101   \n",
       "ind_426    0.626439  0.567359  0.593799  0.631961  0.739227  0.776076   \n",
       "ind_428    0.817302  0.810371  0.445427  0.450719  0.540428  0.807595   \n",
       "90_target  0.060428  0.061560  0.006650  0.012093  0.011307  0.043786   \n",
       "new__RED   0.105511  0.027591  0.177101  0.206484  0.231345  0.438990   \n",
       "\n",
       "             ind_13    ind_14    ind_15    ind_16  ...   ind_410   ind_412  \\\n",
       "ind_5      0.768234  0.014502  0.026336  0.041130  ...  0.393843  0.620106   \n",
       "ind_6      0.713870  0.006066  0.019393  0.035795  ...  0.280376  0.634679   \n",
       "ind_8      0.482220  0.162635  0.139612  0.038862  ...  0.370345  0.275687   \n",
       "ind_9      0.568581  0.238938  0.240048  0.152133  ...  0.426831  0.276882   \n",
       "ind_10     0.633753  0.046312  0.060849  0.068450  ...  0.480781  0.333229   \n",
       "...             ...       ...       ...       ...  ...       ...       ...   \n",
       "ind_424    0.354028  0.011056  0.010548  0.013790  ...  0.515309  0.027318   \n",
       "ind_426    0.700736  0.066201  0.066437  0.051049  ...  0.642797  0.293592   \n",
       "ind_428    0.727899  0.021970  0.016318  0.010361  ...  0.392409  0.574646   \n",
       "90_target  0.043491  0.077710  0.088271  0.108077  ...  0.021083  0.124265   \n",
       "new__RED   0.397109  0.023615  0.011598  0.008627  ...  0.617948  0.012824   \n",
       "\n",
       "            ind_414   ind_416   ind_418   ind_424   ind_426   ind_428  \\\n",
       "ind_5      0.694619  0.304134  0.620099  0.076169  0.626439  0.817302   \n",
       "ind_6      0.646983  0.279922  0.569657  0.021220  0.567359  0.810371   \n",
       "ind_8      0.489596  0.277258  0.432579  0.144795  0.593799  0.445427   \n",
       "ind_9      0.436275  0.349318  0.505772  0.173139  0.631961  0.450719   \n",
       "ind_10     0.558311  0.377913  0.565931  0.191752  0.739227  0.540428   \n",
       "...             ...       ...       ...       ...       ...       ...   \n",
       "ind_424    0.269870  0.136217  0.293695  1.000000  0.341017  0.188853   \n",
       "ind_426    0.571432  0.356302  0.594243  0.341017  1.000000  0.584754   \n",
       "ind_428    0.499656  0.260048  0.487564  0.188853  0.584754  1.000000   \n",
       "90_target  0.018379  0.049615  0.096903  0.007689  0.002519  0.043563   \n",
       "new__RED   0.301886  0.169441  0.326720  0.507821  0.307789  0.175658   \n",
       "\n",
       "           90_target  new__RED  \n",
       "ind_5       0.060428  0.105511  \n",
       "ind_6       0.061560  0.027591  \n",
       "ind_8       0.006650  0.177101  \n",
       "ind_9       0.012093  0.206484  \n",
       "ind_10      0.011307  0.231345  \n",
       "...              ...       ...  \n",
       "ind_424     0.007689  0.507821  \n",
       "ind_426     0.002519  0.307789  \n",
       "ind_428     0.043563  0.175658  \n",
       "90_target   1.000000  0.019559  \n",
       "new__RED    0.019559  1.000000  \n",
       "\n",
       "[132 rows x 132 columns]"
      ]
     },
     "execution_count": 6,
     "metadata": {},
     "output_type": "execute_result"
    }
   ],
   "source": [
    "# kendi içlerinde korelasyon tablosuna baktık\n",
    "df_encoded.corr().abs()"
   ]
  },
  {
   "cell_type": "code",
   "execution_count": 7,
   "metadata": {},
   "outputs": [
    {
     "data": {
      "text/plain": [
       "90_target    1.000000\n",
       "ind_18       0.140877\n",
       "ind_17       0.129277\n",
       "ind_412      0.124265\n",
       "ind_332      0.115002\n",
       "ind_16       0.108077\n",
       "ind_324      0.103707\n",
       "ind_418      0.096903\n",
       "ind_330      0.093811\n",
       "ind_15       0.088271\n",
       "Name: 90_target, dtype: float64"
      ]
     },
     "execution_count": 7,
     "metadata": {},
     "output_type": "execute_result"
    }
   ],
   "source": [
    "# target değişkeni ile en yüksek korelasyona sahip 10 değere baktık\n",
    "df_encoded.corr()[\"90_target\"].abs().nlargest(10)"
   ]
  },
  {
   "cell_type": "code",
   "execution_count": 8,
   "metadata": {},
   "outputs": [
    {
     "name": "stdout",
     "output_type": "stream",
     "text": [
      "['ind_5', 'ind_6', 'ind_8', 'ind_9', 'ind_10', 'ind_12', 'ind_13', 'ind_14', 'ind_15', 'ind_16', 'ind_17', 'ind_18', 'ind_19', 'ind_20', 'ind_21', 'ind_22', 'ind_23', 'ind_25', 'ind_26', 'ind_27', 'ind_28', 'ind_29', 'ind_30', 'ind_31', 'ind_32', 'ind_33', 'ind_34', 'ind_35', 'ind_36', 'ind_37', 'ind_39', 'ind_40', 'ind_41', 'ind_42', 'ind_43', 'ind_44', 'ind_45', 'ind_46', 'ind_47', 'ind_48', 'ind_49', 'ind_50', 'ind_51', 'ind_52', 'ind_53', 'ind_56', 'ind_58', 'ind_61', 'ind_62', 'ind_65', 'ind_67', 'ind_70', 'ind_71', 'ind_74', 'ind_77', 'ind_82', 'ind_83', 'ind_88', 'ind_92', 'ind_102', 'ind_116', 'ind_118', 'ind_122', 'ind_124', 'ind_128', 'ind_130', 'ind_132', 'ind_134', 'ind_136', 'ind_139', 'ind_142', 'ind_145', 'ind_147', 'ind_150', 'ind_153', 'ind_156', 'ind_164', 'ind_168', 'ind_172', 'ind_176', 'ind_179', 'ind_181', 'ind_188', 'ind_194', 'ind_212', 'ind_217', 'ind_225', 'ind_228', 'ind_234', 'ind_237', 'ind_239', 'ind_241', 'ind_243', 'ind_309', 'ind_310', 'ind_311', 'ind_313', 'ind_315', 'ind_316', 'ind_318', 'ind_321', 'ind_324', 'ind_327', 'ind_330', 'ind_332', 'ind_334', 'ind_338', 'ind_340', 'ind_344', 'ind_345', 'ind_347', 'ind_349', 'ind_351', 'ind_352', 'ind_387', 'ind_392', 'ind_397', 'ind_399', 'ind_403', 'ind_404', 'ind_406', 'ind_407', 'ind_410', 'ind_412', 'ind_414', 'ind_416', 'ind_418', 'ind_424', 'ind_426', 'ind_428', '90_target', 'new__RED']\n",
      "<class 'list'>\n"
     ]
    }
   ],
   "source": [
    "columns= []\n",
    "\n",
    "for column in df_encoded.columns:\n",
    "    columns.append(column)\n",
    "print(columns)\n",
    "print(type(columns))"
   ]
  },
  {
   "cell_type": "code",
   "execution_count": 9,
   "metadata": {},
   "outputs": [
    {
     "data": {
      "text/html": [
       "<div>\n",
       "<style scoped>\n",
       "    .dataframe tbody tr th:only-of-type {\n",
       "        vertical-align: middle;\n",
       "    }\n",
       "\n",
       "    .dataframe tbody tr th {\n",
       "        vertical-align: top;\n",
       "    }\n",
       "\n",
       "    .dataframe thead th {\n",
       "        text-align: right;\n",
       "    }\n",
       "</style>\n",
       "<table border=\"1\" class=\"dataframe\">\n",
       "  <thead>\n",
       "    <tr style=\"text-align: right;\">\n",
       "      <th></th>\n",
       "      <th>ind_5</th>\n",
       "      <th>ind_6</th>\n",
       "      <th>ind_8</th>\n",
       "      <th>ind_9</th>\n",
       "      <th>ind_10</th>\n",
       "      <th>ind_12</th>\n",
       "      <th>ind_13</th>\n",
       "      <th>ind_14</th>\n",
       "      <th>ind_15</th>\n",
       "      <th>ind_16</th>\n",
       "      <th>...</th>\n",
       "      <th>ind_410</th>\n",
       "      <th>ind_412</th>\n",
       "      <th>ind_414</th>\n",
       "      <th>ind_416</th>\n",
       "      <th>ind_418</th>\n",
       "      <th>ind_424</th>\n",
       "      <th>ind_426</th>\n",
       "      <th>ind_428</th>\n",
       "      <th>90_target</th>\n",
       "      <th>new__RED</th>\n",
       "    </tr>\n",
       "  </thead>\n",
       "  <tbody>\n",
       "    <tr>\n",
       "      <th>0</th>\n",
       "      <td>0.838318</td>\n",
       "      <td>0.753674</td>\n",
       "      <td>1.41845</td>\n",
       "      <td>1.026044</td>\n",
       "      <td>0.234831</td>\n",
       "      <td>1.875320</td>\n",
       "      <td>1.161562</td>\n",
       "      <td>1.768003</td>\n",
       "      <td>1.010514</td>\n",
       "      <td>-0.008731</td>\n",
       "      <td>...</td>\n",
       "      <td>-1.779355</td>\n",
       "      <td>0.379478</td>\n",
       "      <td>-1.008149</td>\n",
       "      <td>-2.549585</td>\n",
       "      <td>-1.110172</td>\n",
       "      <td>1.198341</td>\n",
       "      <td>0.001568</td>\n",
       "      <td>1.407132</td>\n",
       "      <td>1.094311</td>\n",
       "      <td>-0.984393</td>\n",
       "    </tr>\n",
       "    <tr>\n",
       "      <th>1</th>\n",
       "      <td>1.049980</td>\n",
       "      <td>0.838340</td>\n",
       "      <td>1.41845</td>\n",
       "      <td>0.830215</td>\n",
       "      <td>0.353072</td>\n",
       "      <td>2.032100</td>\n",
       "      <td>1.213674</td>\n",
       "      <td>-0.047253</td>\n",
       "      <td>1.103849</td>\n",
       "      <td>0.089859</td>\n",
       "      <td>...</td>\n",
       "      <td>-2.040641</td>\n",
       "      <td>0.503689</td>\n",
       "      <td>-1.053751</td>\n",
       "      <td>-2.922284</td>\n",
       "      <td>-1.368019</td>\n",
       "      <td>1.198341</td>\n",
       "      <td>0.170218</td>\n",
       "      <td>1.333540</td>\n",
       "      <td>1.094811</td>\n",
       "      <td>-0.984393</td>\n",
       "    </tr>\n",
       "    <tr>\n",
       "      <th>2</th>\n",
       "      <td>1.303976</td>\n",
       "      <td>1.050005</td>\n",
       "      <td>1.41845</td>\n",
       "      <td>0.634387</td>\n",
       "      <td>0.471312</td>\n",
       "      <td>2.102976</td>\n",
       "      <td>1.236362</td>\n",
       "      <td>-0.444111</td>\n",
       "      <td>1.051996</td>\n",
       "      <td>0.101931</td>\n",
       "      <td>...</td>\n",
       "      <td>-1.975319</td>\n",
       "      <td>0.589731</td>\n",
       "      <td>-0.981548</td>\n",
       "      <td>-3.096210</td>\n",
       "      <td>-1.368019</td>\n",
       "      <td>1.198341</td>\n",
       "      <td>0.511884</td>\n",
       "      <td>1.348207</td>\n",
       "      <td>-0.915067</td>\n",
       "      <td>-0.984393</td>\n",
       "    </tr>\n",
       "    <tr>\n",
       "      <th>3</th>\n",
       "      <td>1.600303</td>\n",
       "      <td>1.304004</td>\n",
       "      <td>1.41845</td>\n",
       "      <td>0.438558</td>\n",
       "      <td>0.589552</td>\n",
       "      <td>2.229019</td>\n",
       "      <td>1.275445</td>\n",
       "      <td>-0.583746</td>\n",
       "      <td>0.516185</td>\n",
       "      <td>0.168328</td>\n",
       "      <td>...</td>\n",
       "      <td>-1.975319</td>\n",
       "      <td>0.731935</td>\n",
       "      <td>-1.049951</td>\n",
       "      <td>-3.307406</td>\n",
       "      <td>-1.582891</td>\n",
       "      <td>1.198341</td>\n",
       "      <td>0.714696</td>\n",
       "      <td>1.217802</td>\n",
       "      <td>-0.915492</td>\n",
       "      <td>-0.984393</td>\n",
       "    </tr>\n",
       "    <tr>\n",
       "      <th>4</th>\n",
       "      <td>1.769634</td>\n",
       "      <td>1.600335</td>\n",
       "      <td>1.41845</td>\n",
       "      <td>0.242730</td>\n",
       "      <td>0.707792</td>\n",
       "      <td>2.632796</td>\n",
       "      <td>1.390732</td>\n",
       "      <td>0.459843</td>\n",
       "      <td>0.025313</td>\n",
       "      <td>0.498302</td>\n",
       "      <td>...</td>\n",
       "      <td>-2.955141</td>\n",
       "      <td>0.702224</td>\n",
       "      <td>-1.080352</td>\n",
       "      <td>-4.425503</td>\n",
       "      <td>-2.485355</td>\n",
       "      <td>1.198341</td>\n",
       "      <td>1.089645</td>\n",
       "      <td>1.397934</td>\n",
       "      <td>-0.917203</td>\n",
       "      <td>-0.984393</td>\n",
       "    </tr>\n",
       "  </tbody>\n",
       "</table>\n",
       "<p>5 rows × 132 columns</p>\n",
       "</div>"
      ],
      "text/plain": [
       "      ind_5     ind_6    ind_8     ind_9    ind_10    ind_12    ind_13  \\\n",
       "0  0.838318  0.753674  1.41845  1.026044  0.234831  1.875320  1.161562   \n",
       "1  1.049980  0.838340  1.41845  0.830215  0.353072  2.032100  1.213674   \n",
       "2  1.303976  1.050005  1.41845  0.634387  0.471312  2.102976  1.236362   \n",
       "3  1.600303  1.304004  1.41845  0.438558  0.589552  2.229019  1.275445   \n",
       "4  1.769634  1.600335  1.41845  0.242730  0.707792  2.632796  1.390732   \n",
       "\n",
       "     ind_14    ind_15    ind_16  ...   ind_410   ind_412   ind_414   ind_416  \\\n",
       "0  1.768003  1.010514 -0.008731  ... -1.779355  0.379478 -1.008149 -2.549585   \n",
       "1 -0.047253  1.103849  0.089859  ... -2.040641  0.503689 -1.053751 -2.922284   \n",
       "2 -0.444111  1.051996  0.101931  ... -1.975319  0.589731 -0.981548 -3.096210   \n",
       "3 -0.583746  0.516185  0.168328  ... -1.975319  0.731935 -1.049951 -3.307406   \n",
       "4  0.459843  0.025313  0.498302  ... -2.955141  0.702224 -1.080352 -4.425503   \n",
       "\n",
       "    ind_418   ind_424   ind_426   ind_428  90_target  new__RED  \n",
       "0 -1.110172  1.198341  0.001568  1.407132   1.094311 -0.984393  \n",
       "1 -1.368019  1.198341  0.170218  1.333540   1.094811 -0.984393  \n",
       "2 -1.368019  1.198341  0.511884  1.348207  -0.915067 -0.984393  \n",
       "3 -1.582891  1.198341  0.714696  1.217802  -0.915492 -0.984393  \n",
       "4 -2.485355  1.198341  1.089645  1.397934  -0.917203 -0.984393  \n",
       "\n",
       "[5 rows x 132 columns]"
      ]
     },
     "execution_count": 9,
     "metadata": {},
     "output_type": "execute_result"
    }
   ],
   "source": [
    "# Standardizasyon yaptım\n",
    "df_scaled = preprocessing.scale(df_encoded)\n",
    "df_scaled = pd.DataFrame(data=df_scaled, columns=columns)\n",
    "df_scaled.head()"
   ]
  },
  {
   "cell_type": "code",
   "execution_count": 10,
   "metadata": {},
   "outputs": [],
   "source": [
    "# VIF ile değişkenlerin anlamlı olma durumlarına baktım\n",
    "from patsy import dmatrices\n",
    "from statsmodels.stats.outliers_influence import variance_inflation_factor\n",
    "def calc_vif(X):\n",
    "\n",
    "    # Calculating VIF\n",
    "    vif = pd.DataFrame()\n",
    "    vif[\"variables\"] = X.columns\n",
    "    vif[\"VIF\"] = [variance_inflation_factor(X.values, i) for i in range(X.shape[1])]\n",
    "\n",
    "    return(vif)"
   ]
  },
  {
   "cell_type": "code",
   "execution_count": 11,
   "metadata": {},
   "outputs": [
    {
     "data": {
      "text/plain": [
       "0      1901.034549\n",
       "1      1239.813703\n",
       "2              inf\n",
       "3              inf\n",
       "4              inf\n",
       "          ...     \n",
       "127       3.636374\n",
       "128       8.327488\n",
       "129      11.307395\n",
       "130       1.210346\n",
       "131       3.239347\n",
       "Name: VIF, Length: 132, dtype: float64"
      ]
     },
     "execution_count": 11,
     "metadata": {},
     "output_type": "execute_result"
    }
   ],
   "source": [
    "vif = calc_vif(df_scaled)\n",
    "vif_value=vif[\"VIF\"]\n",
    "vif_value"
   ]
  },
  {
   "cell_type": "code",
   "execution_count": 12,
   "metadata": {},
   "outputs": [
    {
     "data": {
      "text/html": [
       "<div>\n",
       "<style scoped>\n",
       "    .dataframe tbody tr th:only-of-type {\n",
       "        vertical-align: middle;\n",
       "    }\n",
       "\n",
       "    .dataframe tbody tr th {\n",
       "        vertical-align: top;\n",
       "    }\n",
       "\n",
       "    .dataframe thead th {\n",
       "        text-align: right;\n",
       "    }\n",
       "</style>\n",
       "<table border=\"1\" class=\"dataframe\">\n",
       "  <thead>\n",
       "    <tr style=\"text-align: right;\">\n",
       "      <th></th>\n",
       "      <th>variables</th>\n",
       "      <th>VIF</th>\n",
       "    </tr>\n",
       "  </thead>\n",
       "  <tbody>\n",
       "    <tr>\n",
       "      <th>130</th>\n",
       "      <td>90_target</td>\n",
       "      <td>1.210346</td>\n",
       "    </tr>\n",
       "    <tr>\n",
       "      <th>85</th>\n",
       "      <td>ind_217</td>\n",
       "      <td>1.479870</td>\n",
       "    </tr>\n",
       "    <tr>\n",
       "      <th>125</th>\n",
       "      <td>ind_416</td>\n",
       "      <td>1.569714</td>\n",
       "    </tr>\n",
       "    <tr>\n",
       "      <th>107</th>\n",
       "      <td>ind_340</td>\n",
       "      <td>1.724569</td>\n",
       "    </tr>\n",
       "    <tr>\n",
       "      <th>94</th>\n",
       "      <td>ind_310</td>\n",
       "      <td>1.950331</td>\n",
       "    </tr>\n",
       "    <tr>\n",
       "      <th>93</th>\n",
       "      <td>ind_309</td>\n",
       "      <td>1.998077</td>\n",
       "    </tr>\n",
       "    <tr>\n",
       "      <th>87</th>\n",
       "      <td>ind_228</td>\n",
       "      <td>2.169581</td>\n",
       "    </tr>\n",
       "    <tr>\n",
       "      <th>57</th>\n",
       "      <td>ind_88</td>\n",
       "      <td>2.244511</td>\n",
       "    </tr>\n",
       "    <tr>\n",
       "      <th>90</th>\n",
       "      <td>ind_239</td>\n",
       "      <td>2.428334</td>\n",
       "    </tr>\n",
       "    <tr>\n",
       "      <th>123</th>\n",
       "      <td>ind_412</td>\n",
       "      <td>2.432931</td>\n",
       "    </tr>\n",
       "    <tr>\n",
       "      <th>102</th>\n",
       "      <td>ind_327</td>\n",
       "      <td>2.434952</td>\n",
       "    </tr>\n",
       "    <tr>\n",
       "      <th>89</th>\n",
       "      <td>ind_237</td>\n",
       "      <td>2.627952</td>\n",
       "    </tr>\n",
       "    <tr>\n",
       "      <th>97</th>\n",
       "      <td>ind_315</td>\n",
       "      <td>2.656146</td>\n",
       "    </tr>\n",
       "    <tr>\n",
       "      <th>101</th>\n",
       "      <td>ind_324</td>\n",
       "      <td>2.727885</td>\n",
       "    </tr>\n",
       "    <tr>\n",
       "      <th>11</th>\n",
       "      <td>ind_18</td>\n",
       "      <td>2.736274</td>\n",
       "    </tr>\n",
       "    <tr>\n",
       "      <th>20</th>\n",
       "      <td>ind_28</td>\n",
       "      <td>2.803762</td>\n",
       "    </tr>\n",
       "    <tr>\n",
       "      <th>100</th>\n",
       "      <td>ind_321</td>\n",
       "      <td>3.149907</td>\n",
       "    </tr>\n",
       "    <tr>\n",
       "      <th>131</th>\n",
       "      <td>new__RED</td>\n",
       "      <td>3.239347</td>\n",
       "    </tr>\n",
       "    <tr>\n",
       "      <th>104</th>\n",
       "      <td>ind_332</td>\n",
       "      <td>3.380090</td>\n",
       "    </tr>\n",
       "    <tr>\n",
       "      <th>127</th>\n",
       "      <td>ind_424</td>\n",
       "      <td>3.636374</td>\n",
       "    </tr>\n",
       "    <tr>\n",
       "      <th>79</th>\n",
       "      <td>ind_176</td>\n",
       "      <td>4.108488</td>\n",
       "    </tr>\n",
       "    <tr>\n",
       "      <th>108</th>\n",
       "      <td>ind_344</td>\n",
       "      <td>4.269115</td>\n",
       "    </tr>\n",
       "    <tr>\n",
       "      <th>78</th>\n",
       "      <td>ind_172</td>\n",
       "      <td>4.283864</td>\n",
       "    </tr>\n",
       "    <tr>\n",
       "      <th>31</th>\n",
       "      <td>ind_40</td>\n",
       "      <td>4.378925</td>\n",
       "    </tr>\n",
       "    <tr>\n",
       "      <th>56</th>\n",
       "      <td>ind_83</td>\n",
       "      <td>4.492777</td>\n",
       "    </tr>\n",
       "    <tr>\n",
       "      <th>103</th>\n",
       "      <td>ind_330</td>\n",
       "      <td>4.715066</td>\n",
       "    </tr>\n",
       "    <tr>\n",
       "      <th>116</th>\n",
       "      <td>ind_397</td>\n",
       "      <td>4.738086</td>\n",
       "    </tr>\n",
       "    <tr>\n",
       "      <th>113</th>\n",
       "      <td>ind_352</td>\n",
       "      <td>4.760861</td>\n",
       "    </tr>\n",
       "    <tr>\n",
       "      <th>105</th>\n",
       "      <td>ind_334</td>\n",
       "      <td>5.711210</td>\n",
       "    </tr>\n",
       "    <tr>\n",
       "      <th>7</th>\n",
       "      <td>ind_14</td>\n",
       "      <td>6.268339</td>\n",
       "    </tr>\n",
       "    <tr>\n",
       "      <th>106</th>\n",
       "      <td>ind_338</td>\n",
       "      <td>6.419040</td>\n",
       "    </tr>\n",
       "    <tr>\n",
       "      <th>111</th>\n",
       "      <td>ind_349</td>\n",
       "      <td>7.341009</td>\n",
       "    </tr>\n",
       "    <tr>\n",
       "      <th>44</th>\n",
       "      <td>ind_53</td>\n",
       "      <td>7.757193</td>\n",
       "    </tr>\n",
       "    <tr>\n",
       "      <th>67</th>\n",
       "      <td>ind_134</td>\n",
       "      <td>7.931290</td>\n",
       "    </tr>\n",
       "    <tr>\n",
       "      <th>128</th>\n",
       "      <td>ind_426</td>\n",
       "      <td>8.327488</td>\n",
       "    </tr>\n",
       "    <tr>\n",
       "      <th>8</th>\n",
       "      <td>ind_15</td>\n",
       "      <td>9.595425</td>\n",
       "    </tr>\n",
       "    <tr>\n",
       "      <th>48</th>\n",
       "      <td>ind_62</td>\n",
       "      <td>9.685188</td>\n",
       "    </tr>\n",
       "    <tr>\n",
       "      <th>52</th>\n",
       "      <td>ind_71</td>\n",
       "      <td>10.045331</td>\n",
       "    </tr>\n",
       "    <tr>\n",
       "      <th>49</th>\n",
       "      <td>ind_65</td>\n",
       "      <td>10.234637</td>\n",
       "    </tr>\n",
       "    <tr>\n",
       "      <th>45</th>\n",
       "      <td>ind_56</td>\n",
       "      <td>10.370630</td>\n",
       "    </tr>\n",
       "  </tbody>\n",
       "</table>\n",
       "</div>"
      ],
      "text/plain": [
       "     variables        VIF\n",
       "130  90_target   1.210346\n",
       "85     ind_217   1.479870\n",
       "125    ind_416   1.569714\n",
       "107    ind_340   1.724569\n",
       "94     ind_310   1.950331\n",
       "93     ind_309   1.998077\n",
       "87     ind_228   2.169581\n",
       "57      ind_88   2.244511\n",
       "90     ind_239   2.428334\n",
       "123    ind_412   2.432931\n",
       "102    ind_327   2.434952\n",
       "89     ind_237   2.627952\n",
       "97     ind_315   2.656146\n",
       "101    ind_324   2.727885\n",
       "11      ind_18   2.736274\n",
       "20      ind_28   2.803762\n",
       "100    ind_321   3.149907\n",
       "131   new__RED   3.239347\n",
       "104    ind_332   3.380090\n",
       "127    ind_424   3.636374\n",
       "79     ind_176   4.108488\n",
       "108    ind_344   4.269115\n",
       "78     ind_172   4.283864\n",
       "31      ind_40   4.378925\n",
       "56      ind_83   4.492777\n",
       "103    ind_330   4.715066\n",
       "116    ind_397   4.738086\n",
       "113    ind_352   4.760861\n",
       "105    ind_334   5.711210\n",
       "7       ind_14   6.268339\n",
       "106    ind_338   6.419040\n",
       "111    ind_349   7.341009\n",
       "44      ind_53   7.757193\n",
       "67     ind_134   7.931290\n",
       "128    ind_426   8.327488\n",
       "8       ind_15   9.595425\n",
       "48      ind_62   9.685188\n",
       "52      ind_71  10.045331\n",
       "49      ind_65  10.234637\n",
       "45      ind_56  10.370630"
      ]
     },
     "execution_count": 12,
     "metadata": {},
     "output_type": "execute_result"
    }
   ],
   "source": [
    "vif_df=pd.DataFrame(vif.nsmallest(40,\"VIF\"))\n",
    "vif_df"
   ]
  },
  {
   "cell_type": "code",
   "execution_count": 13,
   "metadata": {},
   "outputs": [
    {
     "data": {
      "text/html": [
       "<div>\n",
       "<style scoped>\n",
       "    .dataframe tbody tr th:only-of-type {\n",
       "        vertical-align: middle;\n",
       "    }\n",
       "\n",
       "    .dataframe tbody tr th {\n",
       "        vertical-align: top;\n",
       "    }\n",
       "\n",
       "    .dataframe thead th {\n",
       "        text-align: right;\n",
       "    }\n",
       "</style>\n",
       "<table border=\"1\" class=\"dataframe\">\n",
       "  <thead>\n",
       "    <tr style=\"text-align: right;\">\n",
       "      <th></th>\n",
       "      <th>90_target</th>\n",
       "      <th>ind_217</th>\n",
       "      <th>ind_416</th>\n",
       "      <th>ind_340</th>\n",
       "      <th>ind_310</th>\n",
       "      <th>ind_309</th>\n",
       "      <th>ind_228</th>\n",
       "      <th>ind_88</th>\n",
       "      <th>ind_239</th>\n",
       "      <th>ind_412</th>\n",
       "      <th>...</th>\n",
       "      <th>ind_338</th>\n",
       "      <th>ind_349</th>\n",
       "      <th>ind_53</th>\n",
       "      <th>ind_134</th>\n",
       "      <th>ind_426</th>\n",
       "      <th>ind_15</th>\n",
       "      <th>ind_62</th>\n",
       "      <th>ind_71</th>\n",
       "      <th>ind_65</th>\n",
       "      <th>ind_56</th>\n",
       "    </tr>\n",
       "  </thead>\n",
       "  <tbody>\n",
       "    <tr>\n",
       "      <th>0</th>\n",
       "      <td>1.094311</td>\n",
       "      <td>0.011794</td>\n",
       "      <td>-2.549585</td>\n",
       "      <td>-3.428001</td>\n",
       "      <td>-2.506340</td>\n",
       "      <td>0.282385</td>\n",
       "      <td>-0.015921</td>\n",
       "      <td>0.911926</td>\n",
       "      <td>1.026246</td>\n",
       "      <td>0.379478</td>\n",
       "      <td>...</td>\n",
       "      <td>2.867689</td>\n",
       "      <td>0.04654</td>\n",
       "      <td>1.461789</td>\n",
       "      <td>0.769279</td>\n",
       "      <td>0.001568</td>\n",
       "      <td>1.010514</td>\n",
       "      <td>0.830714</td>\n",
       "      <td>0.752724</td>\n",
       "      <td>0.797419</td>\n",
       "      <td>1.378102</td>\n",
       "    </tr>\n",
       "    <tr>\n",
       "      <th>1</th>\n",
       "      <td>1.094811</td>\n",
       "      <td>0.011794</td>\n",
       "      <td>-2.922284</td>\n",
       "      <td>-3.426210</td>\n",
       "      <td>-2.504613</td>\n",
       "      <td>0.282385</td>\n",
       "      <td>-0.016811</td>\n",
       "      <td>0.707253</td>\n",
       "      <td>1.026246</td>\n",
       "      <td>0.503689</td>\n",
       "      <td>...</td>\n",
       "      <td>2.867932</td>\n",
       "      <td>0.04654</td>\n",
       "      <td>1.219760</td>\n",
       "      <td>0.642158</td>\n",
       "      <td>0.170218</td>\n",
       "      <td>1.103849</td>\n",
       "      <td>0.830714</td>\n",
       "      <td>0.752724</td>\n",
       "      <td>0.797419</td>\n",
       "      <td>1.450697</td>\n",
       "    </tr>\n",
       "    <tr>\n",
       "      <th>2</th>\n",
       "      <td>-0.915067</td>\n",
       "      <td>0.011794</td>\n",
       "      <td>-3.096210</td>\n",
       "      <td>-3.425375</td>\n",
       "      <td>-2.503807</td>\n",
       "      <td>0.282385</td>\n",
       "      <td>-0.017701</td>\n",
       "      <td>0.691373</td>\n",
       "      <td>1.026246</td>\n",
       "      <td>0.589731</td>\n",
       "      <td>...</td>\n",
       "      <td>2.868175</td>\n",
       "      <td>0.04654</td>\n",
       "      <td>1.038238</td>\n",
       "      <td>0.642158</td>\n",
       "      <td>0.511884</td>\n",
       "      <td>1.051996</td>\n",
       "      <td>0.913328</td>\n",
       "      <td>0.752724</td>\n",
       "      <td>0.881398</td>\n",
       "      <td>1.378102</td>\n",
       "    </tr>\n",
       "    <tr>\n",
       "      <th>3</th>\n",
       "      <td>-0.915492</td>\n",
       "      <td>0.011794</td>\n",
       "      <td>-3.307406</td>\n",
       "      <td>-3.423855</td>\n",
       "      <td>-2.502340</td>\n",
       "      <td>0.282385</td>\n",
       "      <td>-0.018592</td>\n",
       "      <td>0.484935</td>\n",
       "      <td>1.026246</td>\n",
       "      <td>0.731935</td>\n",
       "      <td>...</td>\n",
       "      <td>2.868418</td>\n",
       "      <td>0.04654</td>\n",
       "      <td>0.856717</td>\n",
       "      <td>0.387917</td>\n",
       "      <td>0.714696</td>\n",
       "      <td>0.516185</td>\n",
       "      <td>0.913328</td>\n",
       "      <td>0.752724</td>\n",
       "      <td>0.881398</td>\n",
       "      <td>1.232913</td>\n",
       "    </tr>\n",
       "    <tr>\n",
       "      <th>4</th>\n",
       "      <td>-0.917203</td>\n",
       "      <td>1.065893</td>\n",
       "      <td>-4.425503</td>\n",
       "      <td>-3.417756</td>\n",
       "      <td>-2.496457</td>\n",
       "      <td>0.282385</td>\n",
       "      <td>-0.019482</td>\n",
       "      <td>2.900280</td>\n",
       "      <td>1.026246</td>\n",
       "      <td>0.702224</td>\n",
       "      <td>...</td>\n",
       "      <td>2.868660</td>\n",
       "      <td>0.04654</td>\n",
       "      <td>1.703818</td>\n",
       "      <td>2.548967</td>\n",
       "      <td>1.089645</td>\n",
       "      <td>0.025313</td>\n",
       "      <td>0.995943</td>\n",
       "      <td>0.837716</td>\n",
       "      <td>0.965378</td>\n",
       "      <td>1.450697</td>\n",
       "    </tr>\n",
       "  </tbody>\n",
       "</table>\n",
       "<p>5 rows × 40 columns</p>\n",
       "</div>"
      ],
      "text/plain": [
       "   90_target   ind_217   ind_416   ind_340   ind_310   ind_309   ind_228  \\\n",
       "0   1.094311  0.011794 -2.549585 -3.428001 -2.506340  0.282385 -0.015921   \n",
       "1   1.094811  0.011794 -2.922284 -3.426210 -2.504613  0.282385 -0.016811   \n",
       "2  -0.915067  0.011794 -3.096210 -3.425375 -2.503807  0.282385 -0.017701   \n",
       "3  -0.915492  0.011794 -3.307406 -3.423855 -2.502340  0.282385 -0.018592   \n",
       "4  -0.917203  1.065893 -4.425503 -3.417756 -2.496457  0.282385 -0.019482   \n",
       "\n",
       "     ind_88   ind_239   ind_412  ...   ind_338  ind_349    ind_53   ind_134  \\\n",
       "0  0.911926  1.026246  0.379478  ...  2.867689  0.04654  1.461789  0.769279   \n",
       "1  0.707253  1.026246  0.503689  ...  2.867932  0.04654  1.219760  0.642158   \n",
       "2  0.691373  1.026246  0.589731  ...  2.868175  0.04654  1.038238  0.642158   \n",
       "3  0.484935  1.026246  0.731935  ...  2.868418  0.04654  0.856717  0.387917   \n",
       "4  2.900280  1.026246  0.702224  ...  2.868660  0.04654  1.703818  2.548967   \n",
       "\n",
       "    ind_426    ind_15    ind_62    ind_71    ind_65    ind_56  \n",
       "0  0.001568  1.010514  0.830714  0.752724  0.797419  1.378102  \n",
       "1  0.170218  1.103849  0.830714  0.752724  0.797419  1.450697  \n",
       "2  0.511884  1.051996  0.913328  0.752724  0.881398  1.378102  \n",
       "3  0.714696  0.516185  0.913328  0.752724  0.881398  1.232913  \n",
       "4  1.089645  0.025313  0.995943  0.837716  0.965378  1.450697  \n",
       "\n",
       "[5 rows x 40 columns]"
      ]
     },
     "execution_count": 13,
     "metadata": {},
     "output_type": "execute_result"
    }
   ],
   "source": [
    "df_min_vif = vif_df[\"variables\"].iloc[0:40]\n",
    "df_vif= df_scaled[df_min_vif]\n",
    "df_vif.head()"
   ]
  },
  {
   "cell_type": "code",
   "execution_count": 14,
   "metadata": {},
   "outputs": [],
   "source": [
    "y = df_vif[\"90_target\"]\n",
    "X = df_vif.drop([\"90_target\"], axis = 1).astype(\"float64\")"
   ]
  },
  {
   "cell_type": "code",
   "execution_count": 15,
   "metadata": {},
   "outputs": [],
   "source": [
    "X_train, X_test, y_train, y_test = train_test_split(X, \n",
    "                                                    y, \n",
    "                                                    test_size=0.25, \n",
    "                                                    random_state=42)"
   ]
  },
  {
   "cell_type": "code",
   "execution_count": 16,
   "metadata": {},
   "outputs": [],
   "source": [
    "import statsmodels.api as sm\n",
    "lm = sm.OLS(y_train, X_train)"
   ]
  },
  {
   "cell_type": "code",
   "execution_count": 17,
   "metadata": {},
   "outputs": [
    {
     "data": {
      "text/html": [
       "<table class=\"simpletable\">\n",
       "<caption>OLS Regression Results</caption>\n",
       "<tr>\n",
       "  <th>Dep. Variable:</th>        <td>90_target</td>    <th>  R-squared (uncentered):</th>      <td>   0.082</td> \n",
       "</tr>\n",
       "<tr>\n",
       "  <th>Model:</th>                   <td>OLS</td>       <th>  Adj. R-squared (uncentered):</th> <td>   0.074</td> \n",
       "</tr>\n",
       "<tr>\n",
       "  <th>Method:</th>             <td>Least Squares</td>  <th>  F-statistic:       </th>          <td>   10.53</td> \n",
       "</tr>\n",
       "<tr>\n",
       "  <th>Date:</th>             <td>Thu, 06 Aug 2020</td> <th>  Prob (F-statistic):</th>          <td>2.00e-60</td> \n",
       "</tr>\n",
       "<tr>\n",
       "  <th>Time:</th>                 <td>16:39:49</td>     <th>  Log-Likelihood:    </th>          <td> -6367.3</td> \n",
       "</tr>\n",
       "<tr>\n",
       "  <th>No. Observations:</th>      <td>  4625</td>      <th>  AIC:               </th>          <td>1.281e+04</td>\n",
       "</tr>\n",
       "<tr>\n",
       "  <th>Df Residuals:</th>          <td>  4586</td>      <th>  BIC:               </th>          <td>1.306e+04</td>\n",
       "</tr>\n",
       "<tr>\n",
       "  <th>Df Model:</th>              <td>    39</td>      <th>                     </th>              <td> </td>    \n",
       "</tr>\n",
       "<tr>\n",
       "  <th>Covariance Type:</th>      <td>nonrobust</td>    <th>                     </th>              <td> </td>    \n",
       "</tr>\n",
       "</table>\n",
       "<table class=\"simpletable\">\n",
       "<tr>\n",
       "      <td></td>        <th>coef</th>     <th>std err</th>      <th>t</th>      <th>P>|t|</th>  <th>[0.025</th>    <th>0.975]</th>  \n",
       "</tr>\n",
       "<tr>\n",
       "  <th>ind_217</th>  <td>    0.0349</td> <td>    0.016</td> <td>    2.182</td> <td> 0.029</td> <td>    0.004</td> <td>    0.066</td>\n",
       "</tr>\n",
       "<tr>\n",
       "  <th>ind_416</th>  <td>    0.0906</td> <td>    0.017</td> <td>    5.444</td> <td> 0.000</td> <td>    0.058</td> <td>    0.123</td>\n",
       "</tr>\n",
       "<tr>\n",
       "  <th>ind_340</th>  <td>    0.0051</td> <td>    0.018</td> <td>    0.282</td> <td> 0.778</td> <td>   -0.030</td> <td>    0.041</td>\n",
       "</tr>\n",
       "<tr>\n",
       "  <th>ind_310</th>  <td>    0.0396</td> <td>    0.016</td> <td>    2.447</td> <td> 0.014</td> <td>    0.008</td> <td>    0.071</td>\n",
       "</tr>\n",
       "<tr>\n",
       "  <th>ind_309</th>  <td>    0.0454</td> <td>    0.017</td> <td>    2.708</td> <td> 0.007</td> <td>    0.013</td> <td>    0.078</td>\n",
       "</tr>\n",
       "<tr>\n",
       "  <th>ind_228</th>  <td>   -0.0282</td> <td>    0.017</td> <td>   -1.631</td> <td> 0.103</td> <td>   -0.062</td> <td>    0.006</td>\n",
       "</tr>\n",
       "<tr>\n",
       "  <th>ind_88</th>   <td>    0.0182</td> <td>    0.016</td> <td>    1.129</td> <td> 0.259</td> <td>   -0.013</td> <td>    0.050</td>\n",
       "</tr>\n",
       "<tr>\n",
       "  <th>ind_239</th>  <td>    0.0681</td> <td>    0.016</td> <td>    4.180</td> <td> 0.000</td> <td>    0.036</td> <td>    0.100</td>\n",
       "</tr>\n",
       "<tr>\n",
       "  <th>ind_412</th>  <td>    0.1737</td> <td>    0.018</td> <td>    9.708</td> <td> 0.000</td> <td>    0.139</td> <td>    0.209</td>\n",
       "</tr>\n",
       "<tr>\n",
       "  <th>ind_327</th>  <td>   -0.0506</td> <td>    0.020</td> <td>   -2.588</td> <td> 0.010</td> <td>   -0.089</td> <td>   -0.012</td>\n",
       "</tr>\n",
       "<tr>\n",
       "  <th>ind_237</th>  <td>   -0.0025</td> <td>    0.016</td> <td>   -0.157</td> <td> 0.876</td> <td>   -0.034</td> <td>    0.029</td>\n",
       "</tr>\n",
       "<tr>\n",
       "  <th>ind_315</th>  <td>   -0.0100</td> <td>    0.017</td> <td>   -0.580</td> <td> 0.562</td> <td>   -0.044</td> <td>    0.024</td>\n",
       "</tr>\n",
       "<tr>\n",
       "  <th>ind_324</th>  <td>   -0.0760</td> <td>    0.019</td> <td>   -3.915</td> <td> 0.000</td> <td>   -0.114</td> <td>   -0.038</td>\n",
       "</tr>\n",
       "<tr>\n",
       "  <th>ind_18</th>   <td>    0.1096</td> <td>    0.019</td> <td>    5.738</td> <td> 0.000</td> <td>    0.072</td> <td>    0.147</td>\n",
       "</tr>\n",
       "<tr>\n",
       "  <th>ind_28</th>   <td>    0.0168</td> <td>    0.020</td> <td>    0.847</td> <td> 0.397</td> <td>   -0.022</td> <td>    0.056</td>\n",
       "</tr>\n",
       "<tr>\n",
       "  <th>ind_321</th>  <td>   -0.0377</td> <td>    0.020</td> <td>   -1.887</td> <td> 0.059</td> <td>   -0.077</td> <td>    0.001</td>\n",
       "</tr>\n",
       "<tr>\n",
       "  <th>new__RED</th> <td>    0.0256</td> <td>    0.020</td> <td>    1.294</td> <td> 0.196</td> <td>   -0.013</td> <td>    0.064</td>\n",
       "</tr>\n",
       "<tr>\n",
       "  <th>ind_332</th>  <td>    0.1465</td> <td>    0.024</td> <td>    6.013</td> <td> 0.000</td> <td>    0.099</td> <td>    0.194</td>\n",
       "</tr>\n",
       "<tr>\n",
       "  <th>ind_424</th>  <td>   -0.0095</td> <td>    0.021</td> <td>   -0.450</td> <td> 0.653</td> <td>   -0.051</td> <td>    0.032</td>\n",
       "</tr>\n",
       "<tr>\n",
       "  <th>ind_176</th>  <td>    0.0149</td> <td>    0.016</td> <td>    0.917</td> <td> 0.359</td> <td>   -0.017</td> <td>    0.047</td>\n",
       "</tr>\n",
       "<tr>\n",
       "  <th>ind_344</th>  <td>    0.0422</td> <td>    0.018</td> <td>    2.312</td> <td> 0.021</td> <td>    0.006</td> <td>    0.078</td>\n",
       "</tr>\n",
       "<tr>\n",
       "  <th>ind_172</th>  <td>    0.0102</td> <td>    0.017</td> <td>    0.615</td> <td> 0.538</td> <td>   -0.022</td> <td>    0.043</td>\n",
       "</tr>\n",
       "<tr>\n",
       "  <th>ind_40</th>   <td>   -0.0405</td> <td>    0.019</td> <td>   -2.145</td> <td> 0.032</td> <td>   -0.077</td> <td>   -0.003</td>\n",
       "</tr>\n",
       "<tr>\n",
       "  <th>ind_83</th>   <td>    0.0004</td> <td>    0.020</td> <td>    0.021</td> <td> 0.983</td> <td>   -0.039</td> <td>    0.039</td>\n",
       "</tr>\n",
       "<tr>\n",
       "  <th>ind_330</th>  <td>    0.0403</td> <td>    0.025</td> <td>    1.580</td> <td> 0.114</td> <td>   -0.010</td> <td>    0.090</td>\n",
       "</tr>\n",
       "<tr>\n",
       "  <th>ind_397</th>  <td>   -0.0128</td> <td>    0.018</td> <td>   -0.714</td> <td> 0.475</td> <td>   -0.048</td> <td>    0.022</td>\n",
       "</tr>\n",
       "<tr>\n",
       "  <th>ind_352</th>  <td>   -0.0252</td> <td>    0.028</td> <td>   -0.902</td> <td> 0.367</td> <td>   -0.080</td> <td>    0.030</td>\n",
       "</tr>\n",
       "<tr>\n",
       "  <th>ind_334</th>  <td>    0.0694</td> <td>    0.031</td> <td>    2.245</td> <td> 0.025</td> <td>    0.009</td> <td>    0.130</td>\n",
       "</tr>\n",
       "<tr>\n",
       "  <th>ind_14</th>   <td>    0.0190</td> <td>    0.028</td> <td>    0.667</td> <td> 0.505</td> <td>   -0.037</td> <td>    0.075</td>\n",
       "</tr>\n",
       "<tr>\n",
       "  <th>ind_338</th>  <td>    0.0805</td> <td>    0.033</td> <td>    2.423</td> <td> 0.015</td> <td>    0.015</td> <td>    0.146</td>\n",
       "</tr>\n",
       "<tr>\n",
       "  <th>ind_349</th>  <td>   -0.0529</td> <td>    0.029</td> <td>   -1.847</td> <td> 0.065</td> <td>   -0.109</td> <td>    0.003</td>\n",
       "</tr>\n",
       "<tr>\n",
       "  <th>ind_53</th>   <td>    0.0048</td> <td>    0.032</td> <td>    0.149</td> <td> 0.882</td> <td>   -0.058</td> <td>    0.068</td>\n",
       "</tr>\n",
       "<tr>\n",
       "  <th>ind_134</th>  <td>   -0.0153</td> <td>    0.022</td> <td>   -0.698</td> <td> 0.485</td> <td>   -0.058</td> <td>    0.028</td>\n",
       "</tr>\n",
       "<tr>\n",
       "  <th>ind_426</th>  <td>   -0.0473</td> <td>    0.023</td> <td>   -2.071</td> <td> 0.038</td> <td>   -0.092</td> <td>   -0.003</td>\n",
       "</tr>\n",
       "<tr>\n",
       "  <th>ind_15</th>   <td>    0.0108</td> <td>    0.028</td> <td>    0.390</td> <td> 0.696</td> <td>   -0.043</td> <td>    0.065</td>\n",
       "</tr>\n",
       "<tr>\n",
       "  <th>ind_62</th>   <td>   -0.0402</td> <td>    0.040</td> <td>   -1.007</td> <td> 0.314</td> <td>   -0.118</td> <td>    0.038</td>\n",
       "</tr>\n",
       "<tr>\n",
       "  <th>ind_71</th>   <td>    0.0456</td> <td>    0.028</td> <td>    1.641</td> <td> 0.101</td> <td>   -0.009</td> <td>    0.100</td>\n",
       "</tr>\n",
       "<tr>\n",
       "  <th>ind_65</th>   <td>   -0.0487</td> <td>    0.043</td> <td>   -1.139</td> <td> 0.255</td> <td>   -0.133</td> <td>    0.035</td>\n",
       "</tr>\n",
       "<tr>\n",
       "  <th>ind_56</th>   <td>    0.0560</td> <td>    0.030</td> <td>    1.872</td> <td> 0.061</td> <td>   -0.003</td> <td>    0.115</td>\n",
       "</tr>\n",
       "</table>\n",
       "<table class=\"simpletable\">\n",
       "<tr>\n",
       "  <th>Omnibus:</th>       <td>21967.712</td> <th>  Durbin-Watson:     </th> <td>   2.016</td> \n",
       "</tr>\n",
       "<tr>\n",
       "  <th>Prob(Omnibus):</th>  <td> 0.000</td>   <th>  Jarque-Bera (JB):  </th> <td> 539.691</td> \n",
       "</tr>\n",
       "<tr>\n",
       "  <th>Skew:</th>           <td> 0.165</td>   <th>  Prob(JB):          </th> <td>6.42e-118</td>\n",
       "</tr>\n",
       "<tr>\n",
       "  <th>Kurtosis:</th>       <td> 1.359</td>   <th>  Cond. No.          </th> <td>    9.71</td> \n",
       "</tr>\n",
       "</table><br/><br/>Warnings:<br/>[1] Standard Errors assume that the covariance matrix of the errors is correctly specified."
      ],
      "text/plain": [
       "<class 'statsmodels.iolib.summary.Summary'>\n",
       "\"\"\"\n",
       "                                 OLS Regression Results                                \n",
       "=======================================================================================\n",
       "Dep. Variable:              90_target   R-squared (uncentered):                   0.082\n",
       "Model:                            OLS   Adj. R-squared (uncentered):              0.074\n",
       "Method:                 Least Squares   F-statistic:                              10.53\n",
       "Date:                Thu, 06 Aug 2020   Prob (F-statistic):                    2.00e-60\n",
       "Time:                        16:39:49   Log-Likelihood:                         -6367.3\n",
       "No. Observations:                4625   AIC:                                  1.281e+04\n",
       "Df Residuals:                    4586   BIC:                                  1.306e+04\n",
       "Df Model:                          39                                                  \n",
       "Covariance Type:            nonrobust                                                  \n",
       "==============================================================================\n",
       "                 coef    std err          t      P>|t|      [0.025      0.975]\n",
       "------------------------------------------------------------------------------\n",
       "ind_217        0.0349      0.016      2.182      0.029       0.004       0.066\n",
       "ind_416        0.0906      0.017      5.444      0.000       0.058       0.123\n",
       "ind_340        0.0051      0.018      0.282      0.778      -0.030       0.041\n",
       "ind_310        0.0396      0.016      2.447      0.014       0.008       0.071\n",
       "ind_309        0.0454      0.017      2.708      0.007       0.013       0.078\n",
       "ind_228       -0.0282      0.017     -1.631      0.103      -0.062       0.006\n",
       "ind_88         0.0182      0.016      1.129      0.259      -0.013       0.050\n",
       "ind_239        0.0681      0.016      4.180      0.000       0.036       0.100\n",
       "ind_412        0.1737      0.018      9.708      0.000       0.139       0.209\n",
       "ind_327       -0.0506      0.020     -2.588      0.010      -0.089      -0.012\n",
       "ind_237       -0.0025      0.016     -0.157      0.876      -0.034       0.029\n",
       "ind_315       -0.0100      0.017     -0.580      0.562      -0.044       0.024\n",
       "ind_324       -0.0760      0.019     -3.915      0.000      -0.114      -0.038\n",
       "ind_18         0.1096      0.019      5.738      0.000       0.072       0.147\n",
       "ind_28         0.0168      0.020      0.847      0.397      -0.022       0.056\n",
       "ind_321       -0.0377      0.020     -1.887      0.059      -0.077       0.001\n",
       "new__RED       0.0256      0.020      1.294      0.196      -0.013       0.064\n",
       "ind_332        0.1465      0.024      6.013      0.000       0.099       0.194\n",
       "ind_424       -0.0095      0.021     -0.450      0.653      -0.051       0.032\n",
       "ind_176        0.0149      0.016      0.917      0.359      -0.017       0.047\n",
       "ind_344        0.0422      0.018      2.312      0.021       0.006       0.078\n",
       "ind_172        0.0102      0.017      0.615      0.538      -0.022       0.043\n",
       "ind_40        -0.0405      0.019     -2.145      0.032      -0.077      -0.003\n",
       "ind_83         0.0004      0.020      0.021      0.983      -0.039       0.039\n",
       "ind_330        0.0403      0.025      1.580      0.114      -0.010       0.090\n",
       "ind_397       -0.0128      0.018     -0.714      0.475      -0.048       0.022\n",
       "ind_352       -0.0252      0.028     -0.902      0.367      -0.080       0.030\n",
       "ind_334        0.0694      0.031      2.245      0.025       0.009       0.130\n",
       "ind_14         0.0190      0.028      0.667      0.505      -0.037       0.075\n",
       "ind_338        0.0805      0.033      2.423      0.015       0.015       0.146\n",
       "ind_349       -0.0529      0.029     -1.847      0.065      -0.109       0.003\n",
       "ind_53         0.0048      0.032      0.149      0.882      -0.058       0.068\n",
       "ind_134       -0.0153      0.022     -0.698      0.485      -0.058       0.028\n",
       "ind_426       -0.0473      0.023     -2.071      0.038      -0.092      -0.003\n",
       "ind_15         0.0108      0.028      0.390      0.696      -0.043       0.065\n",
       "ind_62        -0.0402      0.040     -1.007      0.314      -0.118       0.038\n",
       "ind_71         0.0456      0.028      1.641      0.101      -0.009       0.100\n",
       "ind_65        -0.0487      0.043     -1.139      0.255      -0.133       0.035\n",
       "ind_56         0.0560      0.030      1.872      0.061      -0.003       0.115\n",
       "==============================================================================\n",
       "Omnibus:                    21967.712   Durbin-Watson:                   2.016\n",
       "Prob(Omnibus):                  0.000   Jarque-Bera (JB):              539.691\n",
       "Skew:                           0.165   Prob(JB):                    6.42e-118\n",
       "Kurtosis:                       1.359   Cond. No.                         9.71\n",
       "==============================================================================\n",
       "\n",
       "Warnings:\n",
       "[1] Standard Errors assume that the covariance matrix of the errors is correctly specified.\n",
       "\"\"\""
      ]
     },
     "execution_count": 17,
     "metadata": {},
     "output_type": "execute_result"
    }
   ],
   "source": [
    "model = lm.fit()\n",
    "model.summary()"
   ]
  },
  {
   "cell_type": "code",
   "execution_count": 56,
   "metadata": {},
   "outputs": [
    {
     "data": {
      "text/html": [
       "<div>\n",
       "<style scoped>\n",
       "    .dataframe tbody tr th:only-of-type {\n",
       "        vertical-align: middle;\n",
       "    }\n",
       "\n",
       "    .dataframe tbody tr th {\n",
       "        vertical-align: top;\n",
       "    }\n",
       "\n",
       "    .dataframe thead th {\n",
       "        text-align: right;\n",
       "    }\n",
       "</style>\n",
       "<table border=\"1\" class=\"dataframe\">\n",
       "  <thead>\n",
       "    <tr style=\"text-align: right;\">\n",
       "      <th></th>\n",
       "      <th>90_target</th>\n",
       "      <th>ind_217</th>\n",
       "      <th>ind_416</th>\n",
       "      <th>ind_310</th>\n",
       "      <th>ind_309</th>\n",
       "      <th>ind_239</th>\n",
       "      <th>ind_412</th>\n",
       "      <th>ind_324</th>\n",
       "      <th>ind_18</th>\n",
       "      <th>ind_332</th>\n",
       "    </tr>\n",
       "  </thead>\n",
       "  <tbody>\n",
       "    <tr>\n",
       "      <th>0</th>\n",
       "      <td>1.094311</td>\n",
       "      <td>0.011794</td>\n",
       "      <td>-2.549585</td>\n",
       "      <td>-2.506340</td>\n",
       "      <td>0.282385</td>\n",
       "      <td>1.026246</td>\n",
       "      <td>0.379478</td>\n",
       "      <td>0.091847</td>\n",
       "      <td>-0.977360</td>\n",
       "      <td>0.163974</td>\n",
       "    </tr>\n",
       "    <tr>\n",
       "      <th>1</th>\n",
       "      <td>1.094811</td>\n",
       "      <td>0.011794</td>\n",
       "      <td>-2.922284</td>\n",
       "      <td>-2.504613</td>\n",
       "      <td>0.282385</td>\n",
       "      <td>1.026246</td>\n",
       "      <td>0.503689</td>\n",
       "      <td>0.091847</td>\n",
       "      <td>-0.935807</td>\n",
       "      <td>0.158695</td>\n",
       "    </tr>\n",
       "    <tr>\n",
       "      <th>2</th>\n",
       "      <td>-0.915067</td>\n",
       "      <td>0.011794</td>\n",
       "      <td>-3.096210</td>\n",
       "      <td>-2.503807</td>\n",
       "      <td>0.282385</td>\n",
       "      <td>1.026246</td>\n",
       "      <td>0.589731</td>\n",
       "      <td>0.091847</td>\n",
       "      <td>-0.902565</td>\n",
       "      <td>0.153500</td>\n",
       "    </tr>\n",
       "    <tr>\n",
       "      <th>3</th>\n",
       "      <td>-0.915492</td>\n",
       "      <td>0.011794</td>\n",
       "      <td>-3.307406</td>\n",
       "      <td>-2.502340</td>\n",
       "      <td>0.282385</td>\n",
       "      <td>1.026246</td>\n",
       "      <td>0.731935</td>\n",
       "      <td>0.091847</td>\n",
       "      <td>-0.864706</td>\n",
       "      <td>0.148386</td>\n",
       "    </tr>\n",
       "    <tr>\n",
       "      <th>4</th>\n",
       "      <td>-0.917203</td>\n",
       "      <td>1.065893</td>\n",
       "      <td>-4.425503</td>\n",
       "      <td>-2.496457</td>\n",
       "      <td>0.282385</td>\n",
       "      <td>1.026246</td>\n",
       "      <td>0.702224</td>\n",
       "      <td>0.091847</td>\n",
       "      <td>-0.688338</td>\n",
       "      <td>0.143353</td>\n",
       "    </tr>\n",
       "  </tbody>\n",
       "</table>\n",
       "</div>"
      ],
      "text/plain": [
       "   90_target   ind_217   ind_416   ind_310   ind_309   ind_239   ind_412  \\\n",
       "0   1.094311  0.011794 -2.549585 -2.506340  0.282385  1.026246  0.379478   \n",
       "1   1.094811  0.011794 -2.922284 -2.504613  0.282385  1.026246  0.503689   \n",
       "2  -0.915067  0.011794 -3.096210 -2.503807  0.282385  1.026246  0.589731   \n",
       "3  -0.915492  0.011794 -3.307406 -2.502340  0.282385  1.026246  0.731935   \n",
       "4  -0.917203  1.065893 -4.425503 -2.496457  0.282385  1.026246  0.702224   \n",
       "\n",
       "    ind_324    ind_18   ind_332  \n",
       "0  0.091847 -0.977360  0.163974  \n",
       "1  0.091847 -0.935807  0.158695  \n",
       "2  0.091847 -0.902565  0.153500  \n",
       "3  0.091847 -0.864706  0.148386  \n",
       "4  0.091847 -0.688338  0.143353  "
      ]
     },
     "execution_count": 56,
     "metadata": {},
     "output_type": "execute_result"
    }
   ],
   "source": [
    "df_last= df_vif.drop([\"ind_340\",\n",
    "                     \"ind_228\",\n",
    "                     \"ind_88\",\n",
    "                     \"ind_237\",\n",
    "                     \"ind_315\",\n",
    "                     \"ind_28\",\n",
    "                     \"ind_321\",\n",
    "                     \"new__RED\",\n",
    "                     \"ind_424\",\n",
    "                     \"ind_176\",\n",
    "                     \"ind_172\",\n",
    "                     \"ind_83\",\n",
    "                     \"ind_330\",\n",
    "                     \"ind_397\",\n",
    "                     \"ind_352\",\n",
    "                     \"ind_14\",\n",
    "                     \"ind_53\",\n",
    "                     \"ind_134\",\n",
    "                     \"ind_15\",\n",
    "                     \"ind_62\",\n",
    "                     \"ind_71\",\n",
    "                     \"ind_56\",\"ind_334\",\"ind_344\",\"ind_338\",\"ind_349\",\"ind_426\",\"ind_65\",\"ind_40\",\"ind_327\"],axis=1).astype(\"float64\")\n",
    "df_last.head()"
   ]
  },
  {
   "cell_type": "code",
   "execution_count": 57,
   "metadata": {},
   "outputs": [],
   "source": [
    "y = df_last[\"90_target\"]\n",
    "X = df_last.drop([\"90_target\"], axis = 1).astype(\"float64\")"
   ]
  },
  {
   "cell_type": "code",
   "execution_count": 58,
   "metadata": {},
   "outputs": [
    {
     "data": {
      "image/png": "[encoded data removed]",
      "text/plain": [
       "<Figure size 720x720 with 2 Axes>"
      ]
     },
     "metadata": {
      "needs_background": "light"
     },
     "output_type": "display_data"
    }
   ],
   "source": [
    "f,ax = plt.subplots(figsize=(10,10))\n",
    "import seaborn as sns\n",
    "sns.heatmap(df_last.corr().abs(), annot=True);"
   ]
  },
  {
   "cell_type": "code",
   "execution_count": 59,
   "metadata": {},
   "outputs": [
    {
     "data": {
      "text/html": [
       "<table class=\"simpletable\">\n",
       "<caption>OLS Regression Results</caption>\n",
       "<tr>\n",
       "  <th>Dep. Variable:</th>        <td>90_target</td>    <th>  R-squared (uncentered):</th>      <td>   0.070</td> \n",
       "</tr>\n",
       "<tr>\n",
       "  <th>Model:</th>                   <td>OLS</td>       <th>  Adj. R-squared (uncentered):</th> <td>   0.068</td> \n",
       "</tr>\n",
       "<tr>\n",
       "  <th>Method:</th>             <td>Least Squares</td>  <th>  F-statistic:       </th>          <td>   38.56</td> \n",
       "</tr>\n",
       "<tr>\n",
       "  <th>Date:</th>             <td>Thu, 06 Aug 2020</td> <th>  Prob (F-statistic):</th>          <td>1.01e-66</td> \n",
       "</tr>\n",
       "<tr>\n",
       "  <th>Time:</th>                 <td>17:59:55</td>     <th>  Log-Likelihood:    </th>          <td> -6398.0</td> \n",
       "</tr>\n",
       "<tr>\n",
       "  <th>No. Observations:</th>      <td>  4625</td>      <th>  AIC:               </th>          <td>1.281e+04</td>\n",
       "</tr>\n",
       "<tr>\n",
       "  <th>Df Residuals:</th>          <td>  4616</td>      <th>  BIC:               </th>          <td>1.287e+04</td>\n",
       "</tr>\n",
       "<tr>\n",
       "  <th>Df Model:</th>              <td>     9</td>      <th>                     </th>              <td> </td>    \n",
       "</tr>\n",
       "<tr>\n",
       "  <th>Covariance Type:</th>      <td>nonrobust</td>    <th>                     </th>              <td> </td>    \n",
       "</tr>\n",
       "</table>\n",
       "<table class=\"simpletable\">\n",
       "<tr>\n",
       "     <td></td>        <th>coef</th>     <th>std err</th>      <th>t</th>      <th>P>|t|</th>  <th>[0.025</th>    <th>0.975]</th>  \n",
       "</tr>\n",
       "<tr>\n",
       "  <th>ind_217</th> <td>    0.0477</td> <td>    0.015</td> <td>    3.151</td> <td> 0.002</td> <td>    0.018</td> <td>    0.077</td>\n",
       "</tr>\n",
       "<tr>\n",
       "  <th>ind_416</th> <td>    0.1078</td> <td>    0.015</td> <td>    7.157</td> <td> 0.000</td> <td>    0.078</td> <td>    0.137</td>\n",
       "</tr>\n",
       "<tr>\n",
       "  <th>ind_310</th> <td>    0.0416</td> <td>    0.015</td> <td>    2.694</td> <td> 0.007</td> <td>    0.011</td> <td>    0.072</td>\n",
       "</tr>\n",
       "<tr>\n",
       "  <th>ind_309</th> <td>    0.0328</td> <td>    0.015</td> <td>    2.170</td> <td> 0.030</td> <td>    0.003</td> <td>    0.063</td>\n",
       "</tr>\n",
       "<tr>\n",
       "  <th>ind_239</th> <td>    0.0659</td> <td>    0.016</td> <td>    4.220</td> <td> 0.000</td> <td>    0.035</td> <td>    0.096</td>\n",
       "</tr>\n",
       "<tr>\n",
       "  <th>ind_412</th> <td>    0.1551</td> <td>    0.016</td> <td>    9.834</td> <td> 0.000</td> <td>    0.124</td> <td>    0.186</td>\n",
       "</tr>\n",
       "<tr>\n",
       "  <th>ind_324</th> <td>   -0.0328</td> <td>    0.016</td> <td>   -2.078</td> <td> 0.038</td> <td>   -0.064</td> <td>   -0.002</td>\n",
       "</tr>\n",
       "<tr>\n",
       "  <th>ind_18</th>  <td>    0.1102</td> <td>    0.017</td> <td>    6.640</td> <td> 0.000</td> <td>    0.078</td> <td>    0.143</td>\n",
       "</tr>\n",
       "<tr>\n",
       "  <th>ind_332</th> <td>    0.1124</td> <td>    0.015</td> <td>    7.481</td> <td> 0.000</td> <td>    0.083</td> <td>    0.142</td>\n",
       "</tr>\n",
       "</table>\n",
       "<table class=\"simpletable\">\n",
       "<tr>\n",
       "  <th>Omnibus:</th>       <td>20678.622</td> <th>  Durbin-Watson:     </th> <td>   2.023</td> \n",
       "</tr>\n",
       "<tr>\n",
       "  <th>Prob(Omnibus):</th>  <td> 0.000</td>   <th>  Jarque-Bera (JB):  </th> <td> 569.577</td> \n",
       "</tr>\n",
       "<tr>\n",
       "  <th>Skew:</th>           <td> 0.162</td>   <th>  Prob(JB):          </th> <td>2.08e-124</td>\n",
       "</tr>\n",
       "<tr>\n",
       "  <th>Kurtosis:</th>       <td> 1.312</td>   <th>  Cond. No.          </th> <td>    2.00</td> \n",
       "</tr>\n",
       "</table><br/><br/>Warnings:<br/>[1] Standard Errors assume that the covariance matrix of the errors is correctly specified."
      ],
      "text/plain": [
       "<class 'statsmodels.iolib.summary.Summary'>\n",
       "\"\"\"\n",
       "                                 OLS Regression Results                                \n",
       "=======================================================================================\n",
       "Dep. Variable:              90_target   R-squared (uncentered):                   0.070\n",
       "Model:                            OLS   Adj. R-squared (uncentered):              0.068\n",
       "Method:                 Least Squares   F-statistic:                              38.56\n",
       "Date:                Thu, 06 Aug 2020   Prob (F-statistic):                    1.01e-66\n",
       "Time:                        17:59:55   Log-Likelihood:                         -6398.0\n",
       "No. Observations:                4625   AIC:                                  1.281e+04\n",
       "Df Residuals:                    4616   BIC:                                  1.287e+04\n",
       "Df Model:                           9                                                  \n",
       "Covariance Type:            nonrobust                                                  \n",
       "==============================================================================\n",
       "                 coef    std err          t      P>|t|      [0.025      0.975]\n",
       "------------------------------------------------------------------------------\n",
       "ind_217        0.0477      0.015      3.151      0.002       0.018       0.077\n",
       "ind_416        0.1078      0.015      7.157      0.000       0.078       0.137\n",
       "ind_310        0.0416      0.015      2.694      0.007       0.011       0.072\n",
       "ind_309        0.0328      0.015      2.170      0.030       0.003       0.063\n",
       "ind_239        0.0659      0.016      4.220      0.000       0.035       0.096\n",
       "ind_412        0.1551      0.016      9.834      0.000       0.124       0.186\n",
       "ind_324       -0.0328      0.016     -2.078      0.038      -0.064      -0.002\n",
       "ind_18         0.1102      0.017      6.640      0.000       0.078       0.143\n",
       "ind_332        0.1124      0.015      7.481      0.000       0.083       0.142\n",
       "==============================================================================\n",
       "Omnibus:                    20678.622   Durbin-Watson:                   2.023\n",
       "Prob(Omnibus):                  0.000   Jarque-Bera (JB):              569.577\n",
       "Skew:                           0.162   Prob(JB):                    2.08e-124\n",
       "Kurtosis:                       1.312   Cond. No.                         2.00\n",
       "==============================================================================\n",
       "\n",
       "Warnings:\n",
       "[1] Standard Errors assume that the covariance matrix of the errors is correctly specified.\n",
       "\"\"\""
      ]
     },
     "execution_count": 59,
     "metadata": {},
     "output_type": "execute_result"
    }
   ],
   "source": [
    "X_train, X_test, y_train, y_test = train_test_split(X, \n",
    "                                                    y, \n",
    "                                                    test_size=0.25, \n",
    "                                                    random_state=42)\n",
    "lm = sm.OLS(y_train, X_train)\n",
    "model = lm.fit()\n",
    "model.summary()"
   ]
  },
  {
   "cell_type": "code",
   "execution_count": 60,
   "metadata": {},
   "outputs": [],
   "source": [
    "from sklearn.decomposition import PCA\n",
    "pca = PCA()"
   ]
  },
  {
   "cell_type": "code",
   "execution_count": 61,
   "metadata": {},
   "outputs": [],
   "source": [
    "X_reduced_train = pca.fit_transform(scale(X_train))\n",
    "# scale edilmiş X_train setime pca modelini fit ediyorum."
   ]
  },
  {
   "cell_type": "code",
   "execution_count": 62,
   "metadata": {},
   "outputs": [
    {
     "data": {
      "text/plain": [
       "array([ 19.08,  34.57,  47.81,  59.94,  70.4 ,  80.59,  88.56,  95.26,\n",
       "       100.  ])"
      ]
     },
     "execution_count": 62,
     "metadata": {},
     "output_type": "execute_result"
    }
   ],
   "source": [
    "np.cumsum(np.round(pca.explained_variance_ratio_, decimals = 4)*100)[0:15]\n",
    "\n",
    "# kümülatif acıklanan varyans oranı \n",
    "# dikkatle bakarsan değişken sayısı arttıça açıklanabilecek kısım oranı da artmış oluyor.\n",
    "# burda bak nerde grafik düzlemeye başlıyor sonra ona göre component sayısı seç\n",
    "# burda graifik de çizdirebilirsin"
   ]
  },
  {
   "cell_type": "code",
   "execution_count": 63,
   "metadata": {},
   "outputs": [
    {
     "data": {
      "text/plain": [
       "Text(0, 0.5, 'variance %')"
      ]
     },
     "execution_count": 63,
     "metadata": {},
     "output_type": "execute_result"
    },
    {
     "data": {
      "image/png": "[encoded data removed]",
      "text/plain": [
       "<Figure size 432x288 with 1 Axes>"
      ]
     },
     "metadata": {
      "needs_background": "light"
     },
     "output_type": "display_data"
    }
   ],
   "source": [
    "import matplotlib.pyplot as plt\n",
    "features =range(pca.n_components_)\n",
    "plt.bar(features,pca.explained_variance_ratio_, color=\"black\")\n",
    "plt.xlabel(\"PCA features\")\n",
    "plt.ylabel(\"variance %\")"
   ]
  },
  {
   "cell_type": "code",
   "execution_count": 28,
   "metadata": {},
   "outputs": [],
   "source": [
    "from sklearn.linear_model import LinearRegression\n",
    "lm = LinearRegression()"
   ]
  },
  {
   "cell_type": "code",
   "execution_count": 29,
   "metadata": {},
   "outputs": [],
   "source": [
    "pcr_model = lm.fit(X_reduced_train, y_train)"
   ]
  },
  {
   "cell_type": "code",
   "execution_count": 30,
   "metadata": {},
   "outputs": [
    {
     "data": {
      "text/plain": [
       "0.0008202252652037081"
      ]
     },
     "execution_count": 30,
     "metadata": {},
     "output_type": "execute_result"
    }
   ],
   "source": [
    "pcr_model.intercept_\n",
    "# B0 sabitini gördük"
   ]
  },
  {
   "cell_type": "code",
   "execution_count": 31,
   "metadata": {},
   "outputs": [
    {
     "data": {
      "text/plain": [
       "array([ 0.09844493,  0.06425664,  0.00061678, -0.09734651, -0.06559409,\n",
       "       -0.03220648,  0.08483311,  0.19832893, -0.00826837,  0.00968209])"
      ]
     },
     "execution_count": 31,
     "metadata": {},
     "output_type": "execute_result"
    }
   ],
   "source": [
    "pcr_model.coef_\n",
    "# bütün değişkenlerin katsayısı gelmiş oldu"
   ]
  },
  {
   "cell_type": "markdown",
   "metadata": {
    "collapsed": true
   },
   "source": [
    "## Tahmin"
   ]
  },
  {
   "cell_type": "code",
   "execution_count": 32,
   "metadata": {},
   "outputs": [
    {
     "data": {
      "text/plain": [
       "array([-0.03263883, -0.22052531, -0.21863693, -0.18853091,  0.38930831])"
      ]
     },
     "execution_count": 32,
     "metadata": {},
     "output_type": "execute_result"
    }
   ],
   "source": [
    "y_pred = pcr_model.predict(X_reduced_train)\n",
    "# pcr_modelin altında pca modeli fit edilmiş olan X_reduced_train kullanarak tahmin ediyoruz.\n",
    "y_pred[0:5]\n",
    "# tahmin edilmiş  değerlerimizin ilk 5 tanesine bakıyoruz."
   ]
  },
  {
   "cell_type": "code",
   "execution_count": 33,
   "metadata": {},
   "outputs": [
    {
     "data": {
      "text/plain": [
       "0.9639319735448773"
      ]
     },
     "execution_count": 33,
     "metadata": {},
     "output_type": "execute_result"
    }
   ],
   "source": [
    "np.sqrt(mean_squared_error(y_train, y_pred))\n",
    "# pcr_modelinin ilkel rmse değerini hesapladım \n"
   ]
  },
  {
   "cell_type": "code",
   "execution_count": 34,
   "metadata": {},
   "outputs": [
    {
     "data": {
      "text/plain": [
       "0.07208029808956284"
      ]
     },
     "execution_count": 34,
     "metadata": {},
     "output_type": "execute_result"
    }
   ],
   "source": [
    "r2_score(y_train, y_pred)\n",
    "# train seri için PCA uygulanmış ilkel değer"
   ]
  },
  {
   "cell_type": "code",
   "execution_count": 35,
   "metadata": {},
   "outputs": [],
   "source": [
    "pca2 = PCA()\n",
    "# test verisi için uygulamaya başlıyoruz"
   ]
  },
  {
   "cell_type": "code",
   "execution_count": 36,
   "metadata": {},
   "outputs": [],
   "source": [
    "X_reduced_test = pca2.fit_transform(scale(X_test))\n",
    "# scale edilmiş test verisine pca fit ediyorum,"
   ]
  },
  {
   "cell_type": "code",
   "execution_count": 37,
   "metadata": {},
   "outputs": [],
   "source": [
    "y_pred = pcr_model.predict(X_reduced_test)\n",
    "# tahmin edilen değerler"
   ]
  },
  {
   "cell_type": "code",
   "execution_count": 38,
   "metadata": {},
   "outputs": [
    {
     "data": {
      "text/plain": [
       "0.9912503492295619"
      ]
     },
     "execution_count": 38,
     "metadata": {},
     "output_type": "execute_result"
    }
   ],
   "source": [
    "np.sqrt(mean_squared_error(y_test, y_pred))\n",
    "# test verisi için ilkel rmse değerimiz bu oldu \n"
   ]
  },
  {
   "cell_type": "markdown",
   "metadata": {},
   "source": [
    "## Model Tuning \n",
    "\n",
    "    - Şu ana kadar değişken sayısına hiç dokunmadık bunu optimize etmemiz gerekiyor."
   ]
  },
  {
   "cell_type": "code",
   "execution_count": 39,
   "metadata": {},
   "outputs": [],
   "source": [
    "from sklearn import model_selection"
   ]
  },
  {
   "cell_type": "code",
   "execution_count": 40,
   "metadata": {},
   "outputs": [],
   "source": [
    "cv_10 = model_selection.KFold(n_splits = 10,\n",
    "                             shuffle = True,\n",
    "                             random_state = 1)\n",
    "# 10 katlı KFold cross-validation, shuffle verilerin karıştırılıp karıştırılmayacağı anlamına gelir"
   ]
  },
  {
   "cell_type": "code",
   "execution_count": 41,
   "metadata": {},
   "outputs": [],
   "source": [
    "lm = LinearRegression()"
   ]
  },
  {
   "cell_type": "code",
   "execution_count": 42,
   "metadata": {},
   "outputs": [],
   "source": [
    "RMSE = []\n",
    "# rmse değerlerini içine atamak için boş olab bir liste açtım"
   ]
  },
  {
   "cell_type": "code",
   "execution_count": 43,
   "metadata": {},
   "outputs": [],
   "source": [
    "for i in np.arange(1, X_reduced_train.shape[1] + 1):\n",
    "    \n",
    "    score = np.sqrt(-1*model_selection.cross_val_score(lm, \n",
    "                                                       X_reduced_train[:,:i], \n",
    "                                                       y_train.ravel(), \n",
    "                                                       cv=cv_10, \n",
    "                                                       scoring='neg_mean_squared_error').mean())\n",
    "    RMSE.append(score)\n",
    "    \n",
    "# burda manuel bir döngü yazman gerekiyor\n",
    "#y_train.ravel() bu bileşen ne işe yarıyor."
   ]
  },
  {
   "cell_type": "code",
   "execution_count": 53,
   "metadata": {},
   "outputs": [
    {
     "data": {
      "image/png": "[encoded data removed]",
      "text/plain": [
       "<Figure size 720x720 with 1 Axes>"
      ]
     },
     "metadata": {
      "needs_background": "light"
     },
     "output_type": "display_data"
    }
   ],
   "source": [
    "plt.figure(figsize=(10,10))\n",
    "plt.plot(RMSE, '-v')\n",
    "plt.xlabel('Bileşen Sayısı')\n",
    "plt.ylabel('RMSE')\n",
    "plt.title(' PCR Model Tuning');\n",
    "\n",
    "# burda grafik olayı çok güzrl çözdü\n",
    "#optimum bileşen sayısını train seti ile cross-validation yöntemi kullanarak ideal bileşen sayısının 6 olduğunu gördük\n",
    "# iş bitmedi bu 6 bileşen ile final modelini kurman gerek"
   ]
  },
  {
   "cell_type": "code",
   "execution_count": 45,
   "metadata": {},
   "outputs": [],
   "source": [
    "pcr_model = lm.fit(X_reduced_train[:,0:10], y_train)\n",
    "# 10 değeri seçtim"
   ]
  },
  {
   "cell_type": "code",
   "execution_count": 46,
   "metadata": {},
   "outputs": [],
   "source": [
    "y_pred = pcr_model.predict(X_reduced_train[:,0:10])\n",
    "# tahmin ettlim"
   ]
  },
  {
   "cell_type": "code",
   "execution_count": 47,
   "metadata": {},
   "outputs": [
    {
     "name": "stdout",
     "output_type": "stream",
     "text": [
      "0.9639319735448773\n"
     ]
    }
   ],
   "source": [
    "print(np.sqrt(mean_squared_error(y_train, y_pred)))\n",
    "# train seti için 10 değer ile  rmse"
   ]
  },
  {
   "cell_type": "code",
   "execution_count": 48,
   "metadata": {},
   "outputs": [
    {
     "data": {
      "text/plain": [
       "0.07208029808956284"
      ]
     },
     "execution_count": 48,
     "metadata": {},
     "output_type": "execute_result"
    }
   ],
   "source": [
    "r2_score(y_train, y_pred)"
   ]
  },
  {
   "cell_type": "code",
   "execution_count": 49,
   "metadata": {},
   "outputs": [],
   "source": [
    "y_pred = pcr_model.predict(X_reduced_test[:,0:10])\n",
    "# 10 değer seçilerek test değerlerini tahmini"
   ]
  },
  {
   "cell_type": "code",
   "execution_count": 50,
   "metadata": {},
   "outputs": [
    {
     "name": "stdout",
     "output_type": "stream",
     "text": [
      "0.9912503492295619\n"
     ]
    }
   ],
   "source": [
    "print(np.sqrt(mean_squared_error(y_test, y_pred)))\n",
    "# test verisinin rmse değeri"
   ]
  },
  {
   "cell_type": "code",
   "execution_count": 51,
   "metadata": {},
   "outputs": [
    {
     "data": {
      "text/plain": [
       "0.01344415257576026"
      ]
     },
     "execution_count": 51,
     "metadata": {},
     "output_type": "execute_result"
    }
   ],
   "source": [
    "r2_score(y_test, y_pred)"
   ]
  },
  {
   "cell_type": "markdown",
   "metadata": {},
   "source": [
    "# PLS (Partial least squares regression-PLSR)"
   ]
  },
  {
   "cell_type": "code",
   "execution_count": 52,
   "metadata": {},
   "outputs": [],
   "source": [
    "y = df_last[\"90_target\"]\n",
    "X = df_last.drop([\"90_target\"], axis = 1).astype(\"float64\")"
   ]
  },
  {
   "cell_type": "code",
   "execution_count": 383,
   "metadata": {},
   "outputs": [],
   "source": [
    "X_train, X_test, y_train, y_test = train_test_split(X, \n",
    "                                                    y, \n",
    "                                                    test_size=0.25, \n",
    "                                                    random_state=42)\n"
   ]
  },
  {
   "cell_type": "code",
   "execution_count": 384,
   "metadata": {},
   "outputs": [],
   "source": [
    "from sklearn.cross_decomposition import PLSRegression, PLSSVD"
   ]
  },
  {
   "cell_type": "code",
   "execution_count": 385,
   "metadata": {},
   "outputs": [],
   "source": [
    "pls_model = PLSRegression().fit(X_train, y_train)\n",
    "# modeli kurduk"
   ]
  },
  {
   "cell_type": "code",
   "execution_count": 386,
   "metadata": {},
   "outputs": [
    {
     "data": {
      "text/plain": [
       "array([[ 0.03542638],\n",
       "       [ 0.1053578 ],\n",
       "       [ 0.06251876],\n",
       "       [ 0.04836007],\n",
       "       [ 0.05788157],\n",
       "       [ 0.13433083],\n",
       "       [-0.0509705 ],\n",
       "       [-0.05186976],\n",
       "       [ 0.11106807],\n",
       "       [ 0.1127215 ]])"
      ]
     },
     "execution_count": 386,
     "metadata": {},
     "output_type": "execute_result"
    }
   ],
   "source": [
    "pls_model.coef_\n",
    "# model katsayıları"
   ]
  },
  {
   "cell_type": "code",
   "execution_count": 387,
   "metadata": {},
   "outputs": [
    {
     "data": {
      "text/plain": [
       "array([[ 0.04536591],\n",
       "       [ 0.10245615],\n",
       "       [ 0.04079906],\n",
       "       [ 0.03889273],\n",
       "       [ 0.06539706],\n",
       "       [ 0.15213653],\n",
       "       [-0.05683595],\n",
       "       [-0.06386231],\n",
       "       [ 0.11285038],\n",
       "       [ 0.11021588]])"
      ]
     },
     "execution_count": 387,
     "metadata": {},
     "output_type": "execute_result"
    }
   ],
   "source": [
    "pls_model_10 = PLSRegression(n_components=10).fit(X_train, y_train)\n",
    "pls_model_10.coef_\n",
    "# burda 10 bileşenli bir model kurup katsayılarını aldık fakat 19 tane katsayı yazdı???\n",
    "# sana veri gönderecek kişi değişken eksilttiğinde kafası karışabilir burda olay çok farklı"
   ]
  },
  {
   "cell_type": "markdown",
   "metadata": {},
   "source": [
    "# PLS- Tahmin"
   ]
  },
  {
   "cell_type": "code",
   "execution_count": 388,
   "metadata": {},
   "outputs": [
    {
     "data": {
      "text/plain": [
       "array([[ 0.01121814],\n",
       "       [-0.21858699],\n",
       "       [-0.17768599],\n",
       "       [-0.23826957],\n",
       "       [ 0.39942029],\n",
       "       [-0.16041047],\n",
       "       [ 0.27283731],\n",
       "       [-0.26816303],\n",
       "       [-0.2232901 ],\n",
       "       [ 0.50187331]])"
      ]
     },
     "execution_count": 388,
     "metadata": {},
     "output_type": "execute_result"
    }
   ],
   "source": [
    "pls_model.predict(X_train)[0:10]\n",
    "# tahmin edilen değerleirn ilk 10 tanesi"
   ]
  },
  {
   "cell_type": "code",
   "execution_count": 389,
   "metadata": {},
   "outputs": [],
   "source": [
    "y_pred = pls_model.predict(X_train)"
   ]
  },
  {
   "cell_type": "code",
   "execution_count": 390,
   "metadata": {},
   "outputs": [
    {
     "data": {
      "text/plain": [
       "0.9644961978138753"
      ]
     },
     "execution_count": 390,
     "metadata": {},
     "output_type": "execute_result"
    }
   ],
   "source": [
    "np.sqrt(mean_squared_error(y_train, y_pred))\n",
    "# train seti için rmse geldi"
   ]
  },
  {
   "cell_type": "code",
   "execution_count": 391,
   "metadata": {},
   "outputs": [
    {
     "data": {
      "text/plain": [
       "0.07099369020090895"
      ]
     },
     "execution_count": 391,
     "metadata": {},
     "output_type": "execute_result"
    }
   ],
   "source": [
    "r2_score(y_train, y_pred)\n",
    "# train seti için r^2 değeri"
   ]
  },
  {
   "cell_type": "code",
   "execution_count": 392,
   "metadata": {},
   "outputs": [],
   "source": [
    "y_pred = pls_model.predict(X_test)\n",
    "# test seti için tahminleri yap"
   ]
  },
  {
   "cell_type": "code",
   "execution_count": 393,
   "metadata": {},
   "outputs": [
    {
     "data": {
      "text/plain": [
       "0.9843298614833362"
      ]
     },
     "execution_count": 393,
     "metadata": {},
     "output_type": "execute_result"
    }
   ],
   "source": [
    "np.sqrt(mean_squared_error(y_test, y_pred))\n",
    "# test seti için rmse değeri\n",
    "# bundan sonra modelini tune etme işlemine geçiyorsun!!"
   ]
  },
  {
   "cell_type": "code",
   "execution_count": 394,
   "metadata": {},
   "outputs": [
    {
     "data": {
      "text/plain": [
       "0.027171490967251133"
      ]
     },
     "execution_count": 394,
     "metadata": {},
     "output_type": "execute_result"
    }
   ],
   "source": [
    "r2_score(y_test, y_pred)"
   ]
  },
  {
   "cell_type": "markdown",
   "metadata": {},
   "source": [
    "## PLS -Model Tuning"
   ]
  },
  {
   "cell_type": "code",
   "execution_count": 395,
   "metadata": {},
   "outputs": [
    {
     "data": {
      "image/png": "[encoded data removed]",
      "text/plain": [
       "<Figure size 432x288 with 1 Axes>"
      ]
     },
     "metadata": {
      "needs_background": "light"
     },
     "output_type": "display_data"
    }
   ],
   "source": [
    "#CV\n",
    "cv_10 = model_selection.KFold(n_splits=10, shuffle=True, random_state=1) # 10 katlı cross-val\n",
    "\n",
    "\n",
    "#Hata hesaplamak için döngü\n",
    "RMSE = []\n",
    "\n",
    "for i in np.arange(1, X_train.shape[1] + 1):\n",
    "    pls = PLSRegression(n_components=i)\n",
    "    score = np.sqrt(-1*cross_val_score(pls, X_train, y_train, cv=cv_10, scoring='neg_mean_squared_error').mean())\n",
    "    RMSE.append(score)\n",
    "\n",
    "#Sonuçların Görselleştirilmesi\n",
    "plt.plot(np.arange(1, X_train.shape[1] + 1), np.array(RMSE), '-v', c = \"r\")\n",
    "plt.xlabel('Bileşen Sayısı')\n",
    "plt.ylabel('RMSE')\n",
    "plt.title('Salary');\n",
    "\n",
    "# bileşen sayısı 3 olunca rmse en düşük değer oldu yani 3 bileşen olması gerekiyr"
   ]
  },
  {
   "cell_type": "code",
   "execution_count": 396,
   "metadata": {},
   "outputs": [],
   "source": [
    "# iki bileşenli final model\n",
    "pls_model = PLSRegression(n_components = 3).fit(X_train, y_train)"
   ]
  },
  {
   "cell_type": "code",
   "execution_count": 397,
   "metadata": {},
   "outputs": [],
   "source": [
    "y_pred = pls_model.predict(X_test)"
   ]
  },
  {
   "cell_type": "code",
   "execution_count": 398,
   "metadata": {},
   "outputs": [
    {
     "data": {
      "text/plain": [
       "0.982518818437282"
      ]
     },
     "execution_count": 398,
     "metadata": {},
     "output_type": "execute_result"
    }
   ],
   "source": [
    "np.sqrt(mean_squared_error(y_test, y_pred))\n",
    "# final modeli test veri seti rmse aldık modeli tune ettin.\n",
    "# pls modelinde ulaşabileceğin en optimum hata miktarı "
   ]
  },
  {
   "cell_type": "code",
   "execution_count": 399,
   "metadata": {},
   "outputs": [
    {
     "data": {
      "text/plain": [
       "0.030747961820132064"
      ]
     },
     "execution_count": 399,
     "metadata": {},
     "output_type": "execute_result"
    }
   ],
   "source": [
    "r2_score(y_test, y_pred)"
   ]
  },
  {
   "cell_type": "markdown",
   "metadata": {},
   "source": [
    "## Ridge Regresyon - Model"
   ]
  },
  {
   "cell_type": "code",
   "execution_count": 400,
   "metadata": {},
   "outputs": [],
   "source": [
    "y = df_last[\"90_target\"]\n",
    "X = df_last.drop([\"90_target\"], axis = 1).astype(\"float64\")\n",
    "X_train, X_test, y_train, y_test = train_test_split(X, \n",
    "                                                    y, \n",
    "                                                    test_size=0.25, \n",
    "                                                    random_state=42)\n"
   ]
  },
  {
   "cell_type": "code",
   "execution_count": 401,
   "metadata": {},
   "outputs": [],
   "source": [
    "from sklearn.linear_model import Ridge"
   ]
  },
  {
   "cell_type": "code",
   "execution_count": 402,
   "metadata": {},
   "outputs": [],
   "source": [
    "ridge_model = Ridge(alpha = 0.1).fit(X_train, y_train)"
   ]
  },
  {
   "cell_type": "code",
   "execution_count": 403,
   "metadata": {},
   "outputs": [
    {
     "data": {
      "text/plain": [
       "Ridge(alpha=0.1, copy_X=True, fit_intercept=True, max_iter=None,\n",
       "      normalize=False, random_state=None, solver='auto', tol=0.001)"
      ]
     },
     "execution_count": 403,
     "metadata": {},
     "output_type": "execute_result"
    }
   ],
   "source": [
    "ridge_model"
   ]
  },
  {
   "cell_type": "code",
   "execution_count": 404,
   "metadata": {},
   "outputs": [
    {
     "data": {
      "text/plain": [
       "array([ 0.04597846,  0.10420048,  0.04116785,  0.0394062 ,  0.06575863,\n",
       "        0.15373032, -0.05647374, -0.06317757,  0.1122024 ,  0.11077172])"
      ]
     },
     "execution_count": 404,
     "metadata": {},
     "output_type": "execute_result"
    }
   ],
   "source": [
    "ridge_model.coef_\n",
    "# katsaylar"
   ]
  },
  {
   "cell_type": "code",
   "execution_count": 405,
   "metadata": {},
   "outputs": [
    {
     "data": {
      "text/plain": [
       "array([5.00000000e+09, 3.78231664e+09, 2.86118383e+09, 2.16438064e+09,\n",
       "       1.63727458e+09, 1.23853818e+09, 9.36908711e+08, 7.08737081e+08,\n",
       "       5.36133611e+08, 4.05565415e+08, 3.06795364e+08, 2.32079442e+08,\n",
       "       1.75559587e+08, 1.32804389e+08, 1.00461650e+08, 7.59955541e+07,\n",
       "       5.74878498e+07, 4.34874501e+07, 3.28966612e+07, 2.48851178e+07,\n",
       "       1.88246790e+07, 1.42401793e+07, 1.07721735e+07, 8.14875417e+06,\n",
       "       6.16423370e+06, 4.66301673e+06, 3.52740116e+06, 2.66834962e+06,\n",
       "       2.01850863e+06, 1.52692775e+06, 1.15506485e+06, 8.73764200e+05,\n",
       "       6.60970574e+05, 5.00000000e+05, 3.78231664e+05, 2.86118383e+05,\n",
       "       2.16438064e+05, 1.63727458e+05, 1.23853818e+05, 9.36908711e+04,\n",
       "       7.08737081e+04, 5.36133611e+04, 4.05565415e+04, 3.06795364e+04,\n",
       "       2.32079442e+04, 1.75559587e+04, 1.32804389e+04, 1.00461650e+04,\n",
       "       7.59955541e+03, 5.74878498e+03, 4.34874501e+03, 3.28966612e+03,\n",
       "       2.48851178e+03, 1.88246790e+03, 1.42401793e+03, 1.07721735e+03,\n",
       "       8.14875417e+02, 6.16423370e+02, 4.66301673e+02, 3.52740116e+02,\n",
       "       2.66834962e+02, 2.01850863e+02, 1.52692775e+02, 1.15506485e+02,\n",
       "       8.73764200e+01, 6.60970574e+01, 5.00000000e+01, 3.78231664e+01,\n",
       "       2.86118383e+01, 2.16438064e+01, 1.63727458e+01, 1.23853818e+01,\n",
       "       9.36908711e+00, 7.08737081e+00, 5.36133611e+00, 4.05565415e+00,\n",
       "       3.06795364e+00, 2.32079442e+00, 1.75559587e+00, 1.32804389e+00,\n",
       "       1.00461650e+00, 7.59955541e-01, 5.74878498e-01, 4.34874501e-01,\n",
       "       3.28966612e-01, 2.48851178e-01, 1.88246790e-01, 1.42401793e-01,\n",
       "       1.07721735e-01, 8.14875417e-02, 6.16423370e-02, 4.66301673e-02,\n",
       "       3.52740116e-02, 2.66834962e-02, 2.01850863e-02, 1.52692775e-02,\n",
       "       1.15506485e-02, 8.73764200e-03, 6.60970574e-03, 5.00000000e-03])"
      ]
     },
     "execution_count": 405,
     "metadata": {},
     "output_type": "execute_result"
    }
   ],
   "source": [
    "10**np.linspace(10,-2,100)*0.5 \n",
    "# döngüye girecek lambda değerleri"
   ]
  },
  {
   "cell_type": "markdown",
   "metadata": {},
   "source": [
    "## Ridge Regresyon -Tahmin"
   ]
  },
  {
   "cell_type": "code",
   "execution_count": 406,
   "metadata": {},
   "outputs": [],
   "source": [
    "y_pred = ridge_model.predict(X_test)\n",
    "# X test setine ridge modele verip tahminleri aldık"
   ]
  },
  {
   "cell_type": "code",
   "execution_count": 407,
   "metadata": {},
   "outputs": [
    {
     "data": {
      "text/plain": [
       "0.9820659067149724"
      ]
     },
     "execution_count": 407,
     "metadata": {},
     "output_type": "execute_result"
    }
   ],
   "source": [
    "np.sqrt(mean_squared_error(y_test, y_pred))\n",
    "# ridge modele göre test hatasının rmse değerini aldık."
   ]
  },
  {
   "cell_type": "code",
   "execution_count": 408,
   "metadata": {},
   "outputs": [
    {
     "data": {
      "text/plain": [
       "0.03164134812912667"
      ]
     },
     "execution_count": 408,
     "metadata": {},
     "output_type": "execute_result"
    }
   ],
   "source": [
    "r2_score(y_test, y_pred)\n",
    "# buda ridge modeline göre r^2 değerlerini aldık"
   ]
  },
  {
   "cell_type": "markdown",
   "metadata": {},
   "source": [
    "## Ridge Regresyon- Model Tuning"
   ]
  },
  {
   "cell_type": "code",
   "execution_count": 409,
   "metadata": {},
   "outputs": [],
   "source": [
    "lambdalar = 10**np.linspace(10,-2,100)*0.5 \n",
    "# döngüye soktuğum lamda değerleri"
   ]
  },
  {
   "cell_type": "code",
   "execution_count": 410,
   "metadata": {},
   "outputs": [
    {
     "data": {
      "text/plain": [
       "array([5.00000000e+09, 3.78231664e+09, 2.86118383e+09, 2.16438064e+09,\n",
       "       1.63727458e+09])"
      ]
     },
     "execution_count": 410,
     "metadata": {},
     "output_type": "execute_result"
    }
   ],
   "source": [
    "lambdalar[0:5]"
   ]
  },
  {
   "cell_type": "code",
   "execution_count": 411,
   "metadata": {},
   "outputs": [],
   "source": [
    "from sklearn.linear_model import RidgeCV\n",
    "ridge_cv = RidgeCV(alphas = lambdalar, \n",
    "                   scoring = \"neg_mean_squared_error\",\n",
    "                   normalize = True)\n",
    "# burda Ridge Cross_val çağırdık. Normalizasyon işlemi de yapmış olduk.\n",
    "# burda bütün lamdaları denedi ve bize optimum olanı verecek aşağıya bak"
   ]
  },
  {
   "cell_type": "code",
   "execution_count": 412,
   "metadata": {},
   "outputs": [
    {
     "data": {
      "text/plain": [
       "RidgeCV(alphas=array([5.00000000e+09, 3.78231664e+09, 2.86118383e+09, 2.16438064e+09,\n",
       "       1.63727458e+09, 1.23853818e+09, 9.36908711e+08, 7.08737081e+08,\n",
       "       5.36133611e+08, 4.05565415e+08, 3.06795364e+08, 2.32079442e+08,\n",
       "       1.75559587e+08, 1.32804389e+08, 1.00461650e+08, 7.59955541e+07,\n",
       "       5.74878498e+07, 4.34874501e+07, 3.28966612e+07, 2.48851178e+07,\n",
       "       1.88246790e+07, 1.42401793e+0...\n",
       "       3.28966612e-01, 2.48851178e-01, 1.88246790e-01, 1.42401793e-01,\n",
       "       1.07721735e-01, 8.14875417e-02, 6.16423370e-02, 4.66301673e-02,\n",
       "       3.52740116e-02, 2.66834962e-02, 2.01850863e-02, 1.52692775e-02,\n",
       "       1.15506485e-02, 8.73764200e-03, 6.60970574e-03, 5.00000000e-03]),\n",
       "        cv=None, fit_intercept=True, gcv_mode=None, normalize=True,\n",
       "        scoring='neg_mean_squared_error', store_cv_values=False)"
      ]
     },
     "execution_count": 412,
     "metadata": {},
     "output_type": "execute_result"
    }
   ],
   "source": [
    "ridge_cv.fit(X_train, y_train)\n",
    "# cros-val modelini eğitim setine fit ediyoruz"
   ]
  },
  {
   "cell_type": "code",
   "execution_count": 413,
   "metadata": {},
   "outputs": [
    {
     "data": {
      "text/plain": [
       "0.03527401155359316"
      ]
     },
     "execution_count": 413,
     "metadata": {},
     "output_type": "execute_result"
    }
   ],
   "source": [
    "ridge_cv.alpha_\n",
    "# optimum lamda değerini aldın artık final modelini kur"
   ]
  },
  {
   "cell_type": "code",
   "execution_count": 414,
   "metadata": {},
   "outputs": [],
   "source": [
    "ridge_tuned = Ridge(alpha = ridge_cv.alpha_, \n",
    "                   normalize = True).fit(X_train,y_train)"
   ]
  },
  {
   "cell_type": "code",
   "execution_count": 415,
   "metadata": {},
   "outputs": [
    {
     "data": {
      "text/plain": [
       "0.9814217584028158"
      ]
     },
     "execution_count": 415,
     "metadata": {},
     "output_type": "execute_result"
    }
   ],
   "source": [
    "np.sqrt(mean_squared_error(y_test, ridge_tuned.predict(X_test)))\n",
    "# optimum lamnda değerini kullanarak modelin tune edilmiş halinden rmse değerini aldık"
   ]
  },
  {
   "cell_type": "code",
   "execution_count": 416,
   "metadata": {},
   "outputs": [
    {
     "data": {
      "text/plain": [
       "0.03291124665439682"
      ]
     },
     "execution_count": 416,
     "metadata": {},
     "output_type": "execute_result"
    }
   ],
   "source": [
    "r2_score(y_test, ridge_tuned.predict(X_test))"
   ]
  },
  {
   "cell_type": "markdown",
   "metadata": {},
   "source": [
    "## Lasso Regresyon -Model"
   ]
  },
  {
   "cell_type": "code",
   "execution_count": 76,
   "metadata": {},
   "outputs": [],
   "source": [
    "y = df_last[\"90_target\"]\n",
    "X = df_last.drop([\"90_target\"], axis = 1).astype(\"float64\")\n",
    "X_train, X_test, y_train, y_test = train_test_split(X, \n",
    "                                                    y, \n",
    "                                                    test_size=0.25, \n",
    "                                                    random_state=42)\n"
   ]
  },
  {
   "cell_type": "code",
   "execution_count": 77,
   "metadata": {},
   "outputs": [],
   "source": [
    "from sklearn.linear_model import Lasso\n",
    "# lasso import ettik"
   ]
  },
  {
   "cell_type": "code",
   "execution_count": 78,
   "metadata": {},
   "outputs": [],
   "source": [
    "lasso_model = Lasso(alpha = 0.1).fit(X_train, y_train)\n",
    "# yine bir alpha alarak fit ettik"
   ]
  },
  {
   "cell_type": "code",
   "execution_count": 79,
   "metadata": {},
   "outputs": [
    {
     "data": {
      "text/plain": [
       "Lasso(alpha=0.1, copy_X=True, fit_intercept=True, max_iter=1000,\n",
       "      normalize=False, positive=False, precompute=False, random_state=None,\n",
       "      selection='cyclic', tol=0.0001, warm_start=False)"
      ]
     },
     "execution_count": 79,
     "metadata": {},
     "output_type": "execute_result"
    }
   ],
   "source": [
    "lasso_model"
   ]
  },
  {
   "cell_type": "code",
   "execution_count": 80,
   "metadata": {},
   "outputs": [
    {
     "data": {
      "text/plain": [
       "array([ 0.        ,  0.        ,  0.        ,  0.        ,  0.        ,\n",
       "        0.03116447, -0.        ,  0.03794454,  0.02412047])"
      ]
     },
     "execution_count": 80,
     "metadata": {},
     "output_type": "execute_result"
    }
   ],
   "source": [
    "lasso_model.coef_\n",
    "# lambda 0.1 olarak katsayıları çektik."
   ]
  },
  {
   "cell_type": "code",
   "execution_count": 81,
   "metadata": {},
   "outputs": [
    {
     "data": {
      "text/plain": [
       "array([5.00000000e+09, 3.78231664e+09, 2.86118383e+09, 2.16438064e+09,\n",
       "       1.63727458e+09, 1.23853818e+09, 9.36908711e+08, 7.08737081e+08,\n",
       "       5.36133611e+08, 4.05565415e+08, 3.06795364e+08, 2.32079442e+08,\n",
       "       1.75559587e+08, 1.32804389e+08, 1.00461650e+08, 7.59955541e+07,\n",
       "       5.74878498e+07, 4.34874501e+07, 3.28966612e+07, 2.48851178e+07,\n",
       "       1.88246790e+07, 1.42401793e+07, 1.07721735e+07, 8.14875417e+06,\n",
       "       6.16423370e+06, 4.66301673e+06, 3.52740116e+06, 2.66834962e+06,\n",
       "       2.01850863e+06, 1.52692775e+06, 1.15506485e+06, 8.73764200e+05,\n",
       "       6.60970574e+05, 5.00000000e+05, 3.78231664e+05, 2.86118383e+05,\n",
       "       2.16438064e+05, 1.63727458e+05, 1.23853818e+05, 9.36908711e+04,\n",
       "       7.08737081e+04, 5.36133611e+04, 4.05565415e+04, 3.06795364e+04,\n",
       "       2.32079442e+04, 1.75559587e+04, 1.32804389e+04, 1.00461650e+04,\n",
       "       7.59955541e+03, 5.74878498e+03, 4.34874501e+03, 3.28966612e+03,\n",
       "       2.48851178e+03, 1.88246790e+03, 1.42401793e+03, 1.07721735e+03,\n",
       "       8.14875417e+02, 6.16423370e+02, 4.66301673e+02, 3.52740116e+02,\n",
       "       2.66834962e+02, 2.01850863e+02, 1.52692775e+02, 1.15506485e+02,\n",
       "       8.73764200e+01, 6.60970574e+01, 5.00000000e+01, 3.78231664e+01,\n",
       "       2.86118383e+01, 2.16438064e+01, 1.63727458e+01, 1.23853818e+01,\n",
       "       9.36908711e+00, 7.08737081e+00, 5.36133611e+00, 4.05565415e+00,\n",
       "       3.06795364e+00, 2.32079442e+00, 1.75559587e+00, 1.32804389e+00,\n",
       "       1.00461650e+00, 7.59955541e-01, 5.74878498e-01, 4.34874501e-01,\n",
       "       3.28966612e-01, 2.48851178e-01, 1.88246790e-01, 1.42401793e-01,\n",
       "       1.07721735e-01, 8.14875417e-02, 6.16423370e-02, 4.66301673e-02,\n",
       "       3.52740116e-02, 2.66834962e-02, 2.01850863e-02, 1.52692775e-02,\n",
       "       1.15506485e-02, 8.73764200e-03, 6.60970574e-03, 5.00000000e-03])"
      ]
     },
     "execution_count": 81,
     "metadata": {},
     "output_type": "execute_result"
    }
   ],
   "source": [
    "lambdalar = 10**np.linspace(10,-2,100)*0.5\n",
    "lambdalar\n",
    "# döngüye girecek olan lambda değerleri"
   ]
  },
  {
   "cell_type": "markdown",
   "metadata": {},
   "source": [
    "## Lasso Regresyon- Tahmin "
   ]
  },
  {
   "cell_type": "code",
   "execution_count": 82,
   "metadata": {},
   "outputs": [
    {
     "data": {
      "text/plain": [
       "array([-0.04863568,  0.12644799, -0.00324829, ..., -0.03217658,\n",
       "       -0.06034819,  0.06318033])"
      ]
     },
     "execution_count": 82,
     "metadata": {},
     "output_type": "execute_result"
    }
   ],
   "source": [
    "lasso_model.predict(X_test)\n",
    "# lasso modeli ile test verisi tahmin çıktıları"
   ]
  },
  {
   "cell_type": "code",
   "execution_count": 83,
   "metadata": {},
   "outputs": [],
   "source": [
    "y_pred = lasso_model.predict(X_test)"
   ]
  },
  {
   "cell_type": "code",
   "execution_count": 84,
   "metadata": {},
   "outputs": [
    {
     "data": {
      "text/plain": [
       "0.9897023998485569"
      ]
     },
     "execution_count": 84,
     "metadata": {},
     "output_type": "execute_result"
    }
   ],
   "source": [
    "np.sqrt(mean_squared_error(y_test, y_pred))"
   ]
  },
  {
   "cell_type": "code",
   "execution_count": 85,
   "metadata": {},
   "outputs": [
    {
     "data": {
      "text/plain": [
       "0.016522983498532873"
      ]
     },
     "execution_count": 85,
     "metadata": {},
     "output_type": "execute_result"
    }
   ],
   "source": [
    "r2_score(y_test,y_pred)\n",
    "# test verisi ile rmse değerini aldık. şimdi modeli tune etmen gerek bu tune edilmemiş rmse"
   ]
  },
  {
   "cell_type": "markdown",
   "metadata": {},
   "source": [
    "## Lasso Regresyon -  Model Tuning"
   ]
  },
  {
   "cell_type": "code",
   "execution_count": 86,
   "metadata": {},
   "outputs": [],
   "source": [
    "from sklearn.linear_model import LassoCV\n",
    "# lasso için cross-val fonk çağırdık"
   ]
  },
  {
   "cell_type": "code",
   "execution_count": 87,
   "metadata": {},
   "outputs": [],
   "source": [
    "lasso_cv_model = LassoCV(alphas = None,\n",
    "                         cv = 10, \n",
    "                         max_iter = 10000, \n",
    "                         normalize = True)\n",
    "\n",
    "# burda lambda girmemiş çünkü bazı durumlarda ön tanımlılara bırakmak gerek bu şekilde algoritmanın ön tanımlı değeri üzeriden seçtirdik"
   ]
  },
  {
   "cell_type": "code",
   "execution_count": 88,
   "metadata": {},
   "outputs": [
    {
     "data": {
      "text/plain": [
       "LassoCV(alphas=None, copy_X=True, cv=10, eps=0.001, fit_intercept=True,\n",
       "        max_iter=10000, n_alphas=100, n_jobs=None, normalize=True,\n",
       "        positive=False, precompute='auto', random_state=None,\n",
       "        selection='cyclic', tol=0.0001, verbose=False)"
      ]
     },
     "execution_count": 88,
     "metadata": {},
     "output_type": "execute_result"
    }
   ],
   "source": [
    "lasso_cv_model.fit(X_train,y_train)\n",
    "# lasso_cross_val fonksiyonunu eğitim setimize fit ettik"
   ]
  },
  {
   "cell_type": "code",
   "execution_count": 89,
   "metadata": {},
   "outputs": [
    {
     "data": {
      "text/plain": [
       "8.355821969209535e-06"
      ]
     },
     "execution_count": 89,
     "metadata": {},
     "output_type": "execute_result"
    }
   ],
   "source": [
    "lasso_cv_model.alpha_\n",
    "# optimal olan lambda değerini seçti"
   ]
  },
  {
   "cell_type": "code",
   "execution_count": 90,
   "metadata": {},
   "outputs": [],
   "source": [
    "lasso_tuned = Lasso(alpha = lasso_cv_model.alpha_)\n",
    "# optimal lambda değerini lasso regresyonu içine alarak tune edecek modeli kurduk"
   ]
  },
  {
   "cell_type": "code",
   "execution_count": 91,
   "metadata": {},
   "outputs": [
    {
     "data": {
      "text/plain": [
       "Lasso(alpha=8.355821969209535e-06, copy_X=True, fit_intercept=True,\n",
       "      max_iter=1000, normalize=False, positive=False, precompute=False,\n",
       "      random_state=None, selection='cyclic', tol=0.0001, warm_start=False)"
      ]
     },
     "execution_count": 91,
     "metadata": {},
     "output_type": "execute_result"
    }
   ],
   "source": [
    "lasso_tuned.fit(X_train, y_train)\n",
    "# Tune etme modelini Train setine fit ettik"
   ]
  },
  {
   "cell_type": "code",
   "execution_count": 92,
   "metadata": {},
   "outputs": [],
   "source": [
    "y_pred = lasso_tuned.predict(X_test)\n",
    "# X_testi tune edilmiş modele verdik ve tahmin edilcek değerleri aldık"
   ]
  },
  {
   "cell_type": "code",
   "execution_count": 93,
   "metadata": {},
   "outputs": [
    {
     "data": {
      "text/plain": [
       "0.9834367146411379"
      ]
     },
     "execution_count": 93,
     "metadata": {},
     "output_type": "execute_result"
    }
   ],
   "source": [
    "np.sqrt(mean_squared_error(y_test, y_pred))\n",
    "# burda tune edilmiş modelimiz için test seti üzerinden rmse değerimize baktık\n",
    "# ridge ile olan rmse farkına bakabilrisin "
   ]
  },
  {
   "cell_type": "code",
   "execution_count": 94,
   "metadata": {},
   "outputs": [
    {
     "data": {
      "text/plain": [
       "0.02893611185216871"
      ]
     },
     "execution_count": 94,
     "metadata": {},
     "output_type": "execute_result"
    }
   ],
   "source": [
    "r2_score(y_test,y_pred)"
   ]
  },
  {
   "cell_type": "markdown",
   "metadata": {},
   "source": [
    "# ElasticNet Regresyonu"
   ]
  },
  {
   "cell_type": "code",
   "execution_count": 96,
   "metadata": {},
   "outputs": [],
   "source": [
    "y = df_last[\"90_target\"]\n",
    "X = df_last.drop([\"90_target\"], axis = 1).astype(\"float64\")\n",
    "X_train, X_test, y_train, y_test = train_test_split(X, \n",
    "                                                    y, \n",
    "                                                    test_size=0.25, \n",
    "                                                    random_state=42)\n"
   ]
  },
  {
   "cell_type": "code",
   "execution_count": 97,
   "metadata": {},
   "outputs": [],
   "source": [
    "from sklearn.linear_model import ElasticNet\n",
    "# ElastikNet import ettik"
   ]
  },
  {
   "cell_type": "code",
   "execution_count": 98,
   "metadata": {},
   "outputs": [],
   "source": [
    "enet_model = ElasticNet().fit(X_train, y_train)\n",
    "# modeli train setine fit ettik"
   ]
  },
  {
   "cell_type": "code",
   "execution_count": 99,
   "metadata": {},
   "outputs": [
    {
     "data": {
      "text/plain": [
       "array([-0.,  0.,  0.,  0.,  0.,  0., -0.,  0.,  0.])"
      ]
     },
     "execution_count": 99,
     "metadata": {},
     "output_type": "execute_result"
    }
   ],
   "source": [
    "enet_model.coef_\n",
    "# modelden çıkan katsayıları çektik"
   ]
  },
  {
   "cell_type": "code",
   "execution_count": 100,
   "metadata": {},
   "outputs": [
    {
     "data": {
      "text/plain": [
       "0.0008202252652037078"
      ]
     },
     "execution_count": 100,
     "metadata": {},
     "output_type": "execute_result"
    }
   ],
   "source": [
    "enet_model.intercept_\n",
    "# modelden B0 değerini çekmiş olduk"
   ]
  },
  {
   "cell_type": "markdown",
   "metadata": {},
   "source": [
    "## ElasticNet Regresyonu- Tahmin"
   ]
  },
  {
   "cell_type": "code",
   "execution_count": 101,
   "metadata": {},
   "outputs": [
    {
     "data": {
      "text/plain": [
       "ElasticNet(alpha=1.0, copy_X=True, fit_intercept=True, l1_ratio=0.5,\n",
       "           max_iter=1000, normalize=False, positive=False, precompute=False,\n",
       "           random_state=None, selection='cyclic', tol=0.0001, warm_start=False)"
      ]
     },
     "execution_count": 101,
     "metadata": {},
     "output_type": "execute_result"
    }
   ],
   "source": [
    "enet_model"
   ]
  },
  {
   "cell_type": "code",
   "execution_count": 102,
   "metadata": {},
   "outputs": [
    {
     "data": {
      "text/plain": [
       "array([0.00082023, 0.00082023, 0.00082023, ..., 0.00082023, 0.00082023,\n",
       "       0.00082023])"
      ]
     },
     "execution_count": 102,
     "metadata": {},
     "output_type": "execute_result"
    }
   ],
   "source": [
    "enet_model.predict(X_test)\n",
    "# modele test seti verip tahminleri çektik"
   ]
  },
  {
   "cell_type": "code",
   "execution_count": 103,
   "metadata": {},
   "outputs": [],
   "source": [
    "y_pred = enet_model.predict(X_test)"
   ]
  },
  {
   "cell_type": "code",
   "execution_count": 104,
   "metadata": {},
   "outputs": [
    {
     "data": {
      "text/plain": [
       "0.9979869490771288"
      ]
     },
     "execution_count": 104,
     "metadata": {},
     "output_type": "execute_result"
    }
   ],
   "source": [
    "np.sqrt(mean_squared_error(y_test, y_pred))\n",
    "# test seti için rmse değerini aldık"
   ]
  },
  {
   "cell_type": "code",
   "execution_count": 105,
   "metadata": {},
   "outputs": [
    {
     "data": {
      "text/plain": [
       "-1.0804393751007169e-05"
      ]
     },
     "execution_count": 105,
     "metadata": {},
     "output_type": "execute_result"
    }
   ],
   "source": [
    "r2_score(y_test, y_pred)\n",
    "# test seti için r^2 değerini aldık"
   ]
  },
  {
   "cell_type": "code",
   "execution_count": 106,
   "metadata": {},
   "outputs": [],
   "source": [
    "## Model Tuning"
   ]
  },
  {
   "cell_type": "code",
   "execution_count": 107,
   "metadata": {},
   "outputs": [],
   "source": [
    "from sklearn.linear_model import ElasticNetCV\n",
    "# ElastikNet için Cross-Val Fonk çağırdık"
   ]
  },
  {
   "cell_type": "code",
   "execution_count": 108,
   "metadata": {},
   "outputs": [],
   "source": [
    "enet_cv_model = ElasticNetCV(cv = 10, random_state = 0).fit(X_train, y_train)\n",
    "# 10 katlı cross-val train setine fit ettik"
   ]
  },
  {
   "cell_type": "code",
   "execution_count": 109,
   "metadata": {},
   "outputs": [
    {
     "data": {
      "text/plain": [
       "0.0018626911536600676"
      ]
     },
     "execution_count": 109,
     "metadata": {},
     "output_type": "execute_result"
    }
   ],
   "source": [
    "enet_cv_model.alpha_\n",
    "# burdan optimal alpha değerini çektik"
   ]
  },
  {
   "cell_type": "code",
   "execution_count": 110,
   "metadata": {},
   "outputs": [
    {
     "data": {
      "text/plain": [
       "ElasticNetCV(alphas=None, copy_X=True, cv=10, eps=0.001, fit_intercept=True,\n",
       "             l1_ratio=0.5, max_iter=1000, n_alphas=100, n_jobs=None,\n",
       "             normalize=False, positive=False, precompute='auto', random_state=0,\n",
       "             selection='cyclic', tol=0.0001, verbose=0)"
      ]
     },
     "execution_count": 110,
     "metadata": {},
     "output_type": "execute_result"
    }
   ],
   "source": [
    "enet_cv_model"
   ]
  },
  {
   "cell_type": "code",
   "execution_count": 111,
   "metadata": {},
   "outputs": [],
   "source": [
    "enet_tuned = ElasticNet(alpha = enet_cv_model.alpha_).fit(X_train,y_train)\n",
    "# optimal alpha değerini final modeli için kullandık"
   ]
  },
  {
   "cell_type": "code",
   "execution_count": 112,
   "metadata": {},
   "outputs": [],
   "source": [
    "y_pred = enet_tuned.predict(X_test)\n",
    "#  test verileri le tahminleri çektik"
   ]
  },
  {
   "cell_type": "code",
   "execution_count": 113,
   "metadata": {},
   "outputs": [
    {
     "data": {
      "text/plain": [
       "0.9832054738393824"
      ]
     },
     "execution_count": 113,
     "metadata": {},
     "output_type": "execute_result"
    }
   ],
   "source": [
    "np.sqrt(mean_squared_error(y_test, y_pred))\n",
    "# test verileri tune edilmiş modelin  rmse değerini aldık"
   ]
  },
  {
   "cell_type": "code",
   "execution_count": 114,
   "metadata": {},
   "outputs": [
    {
     "data": {
      "text/plain": [
       "0.029392721187426418"
      ]
     },
     "execution_count": 114,
     "metadata": {},
     "output_type": "execute_result"
    }
   ],
   "source": [
    "r2_score(y_test, y_pred)\n",
    "# test verileri tune edilmiş model için r^2 değerini aldık"
   ]
  },
  {
   "cell_type": "code",
   "execution_count": null,
   "metadata": {},
   "outputs": [],
   "source": []
  },
  {
   "cell_type": "code",
   "execution_count": null,
   "metadata": {},
   "outputs": [],
   "source": []
  },
  {
   "cell_type": "code",
   "execution_count": null,
   "metadata": {},
   "outputs": [],
   "source": []
  },
  {
   "cell_type": "code",
   "execution_count": null,
   "metadata": {},
   "outputs": [],
   "source": []
  },
  {
   "cell_type": "code",
   "execution_count": null,
   "metadata": {},
   "outputs": [],
   "source": []
  },
  {
   "cell_type": "code",
   "execution_count": null,
   "metadata": {},
   "outputs": [],
   "source": []
  },
  {
   "cell_type": "code",
   "execution_count": null,
   "metadata": {},
   "outputs": [],
   "source": []
  },
  {
   "cell_type": "code",
   "execution_count": null,
   "metadata": {},
   "outputs": [],
   "source": []
  },
  {
   "cell_type": "code",
   "execution_count": 20,
   "metadata": {},
   "outputs": [],
   "source": []
  },
  {
   "cell_type": "code",
   "execution_count": null,
   "metadata": {},
   "outputs": [],
   "source": []
  },
  {
   "cell_type": "code",
   "execution_count": null,
   "metadata": {},
   "outputs": [],
   "source": []
  },
  {
   "cell_type": "code",
   "execution_count": null,
   "metadata": {},
   "outputs": [],
   "source": []
  },
  {
   "cell_type": "code",
   "execution_count": null,
   "metadata": {},
   "outputs": [],
   "source": []
  },
  {
   "cell_type": "code",
   "execution_count": 26,
   "metadata": {},
   "outputs": [],
   "source": []
  },
  {
   "cell_type": "code",
   "execution_count": 27,
   "metadata": {},
   "outputs": [],
   "source": []
  },
  {
   "cell_type": "code",
   "execution_count": null,
   "metadata": {},
   "outputs": [],
   "source": []
  },
  {
   "cell_type": "code",
   "execution_count": null,
   "metadata": {},
   "outputs": [],
   "source": []
  },
  {
   "cell_type": "code",
   "execution_count": null,
   "metadata": {},
   "outputs": [],
   "source": []
  },
  {
   "cell_type": "code",
   "execution_count": null,
   "metadata": {},
   "outputs": [],
   "source": []
  },
  {
   "cell_type": "code",
   "execution_count": null,
   "metadata": {},
   "outputs": [],
   "source": []
  },
  {
   "cell_type": "code",
   "execution_count": null,
   "metadata": {},
   "outputs": [],
   "source": []
  },
  {
   "cell_type": "code",
   "execution_count": null,
   "metadata": {},
   "outputs": [],
   "source": []
  },
  {
   "cell_type": "code",
   "execution_count": null,
   "metadata": {},
   "outputs": [],
   "source": []
  },
  {
   "cell_type": "code",
   "execution_count": null,
   "metadata": {},
   "outputs": [],
   "source": [
    "\n"
   ]
  },
  {
   "cell_type": "code",
   "execution_count": null,
   "metadata": {},
   "outputs": [],
   "source": [
    "\n"
   ]
  },
  {
   "cell_type": "code",
   "execution_count": null,
   "metadata": {},
   "outputs": [],
   "source": []
  }
 ],
 "metadata": {
  "kernelspec": {
   "display_name": "Python 3",
   "language": "python",
   "name": "python3"
  },
  "language_info": {
   "codemirror_mode": {
    "name": "ipython",
    "version": 3
   },
   "file_extension": ".py",
   "mimetype": "text/x-python",
   "name": "python",
   "nbconvert_exporter": "python",
   "pygments_lexer": "ipython3",
   "version": "3.7.6"
  }
 },
 "nbformat": 4,
 "nbformat_minor": 4
}
