{
 "cells": [
  {
   "cell_type": "code",
   "execution_count": 1,
   "metadata": {},
   "outputs": [],
   "source": [
    "import numpy as np\n",
    "import pandas as pd \n",
    "import statsmodels.api as sm\n",
    "import statsmodels.formula.api as smf\n",
    "import seaborn as sns\n",
    "from sklearn.preprocessing import scale \n",
    "from sklearn.model_selection import train_test_split, GridSearchCV, cross_val_score\n",
    "from sklearn.metrics import confusion_matrix, accuracy_score, classification_report\n",
    "from sklearn.metrics import roc_auc_score,roc_curve\n",
    "import statsmodels.formula.api as smf\n",
    "import matplotlib.pyplot as plt\n",
    "from sklearn.neighbors import KNeighborsClassifier\n",
    "from sklearn.discriminant_analysis import LinearDiscriminantAnalysis\n",
    "from sklearn.linear_model import LogisticRegression\n",
    "from sklearn.svm import SVC\n",
    "from sklearn.naive_bayes import GaussianNB\n",
    "from sklearn import tree\n",
    "from sklearn.ensemble import RandomForestClassifier\n",
    "from sklearn.ensemble import GradientBoostingClassifier\n",
    "from xgboost import XGBClassifier\n",
    "from lightgbm import LGBMClassifier\n",
    "from catboost import CatBoostClassifier\n",
    "\n",
    "from warnings import filterwarnings\n",
    "filterwarnings('ignore')"
   ]
  },
  {
   "cell_type": "code",
   "execution_count": 2,
   "metadata": {},
   "outputs": [
    {
     "data": {
      "text/html": [
       "<div>\n",
       "<style scoped>\n",
       "    .dataframe tbody tr th:only-of-type {\n",
       "        vertical-align: middle;\n",
       "    }\n",
       "\n",
       "    .dataframe tbody tr th {\n",
       "        vertical-align: top;\n",
       "    }\n",
       "\n",
       "    .dataframe thead th {\n",
       "        text-align: right;\n",
       "    }\n",
       "</style>\n",
       "<table border=\"1\" class=\"dataframe\">\n",
       "  <thead>\n",
       "    <tr style=\"text-align: right;\">\n",
       "      <th></th>\n",
       "      <th>bad</th>\n",
       "      <th>loan</th>\n",
       "      <th>mortdue</th>\n",
       "      <th>value</th>\n",
       "      <th>reason</th>\n",
       "      <th>job</th>\n",
       "      <th>yoj</th>\n",
       "      <th>derog</th>\n",
       "      <th>delinq</th>\n",
       "      <th>clage</th>\n",
       "      <th>ninq</th>\n",
       "      <th>clno</th>\n",
       "      <th>debtinc</th>\n",
       "    </tr>\n",
       "  </thead>\n",
       "  <tbody>\n",
       "    <tr>\n",
       "      <th>153</th>\n",
       "      <td>0</td>\n",
       "      <td>18200</td>\n",
       "      <td>94727.0</td>\n",
       "      <td>136877.0</td>\n",
       "      <td>DebtCon</td>\n",
       "      <td>Mgr</td>\n",
       "      <td>15.0</td>\n",
       "      <td>0.0</td>\n",
       "      <td>0.0</td>\n",
       "      <td>168.96</td>\n",
       "      <td>2.0</td>\n",
       "      <td>26.0</td>\n",
       "      <td>36.056</td>\n",
       "    </tr>\n",
       "    <tr>\n",
       "      <th>154</th>\n",
       "      <td>0</td>\n",
       "      <td>21700</td>\n",
       "      <td>79240.0</td>\n",
       "      <td>96784.0</td>\n",
       "      <td>DebtCon</td>\n",
       "      <td>Mgr</td>\n",
       "      <td>5.0</td>\n",
       "      <td>0.0</td>\n",
       "      <td>0.0</td>\n",
       "      <td>64.51</td>\n",
       "      <td>6.0</td>\n",
       "      <td>24.0</td>\n",
       "      <td>38.079</td>\n",
       "    </tr>\n",
       "    <tr>\n",
       "      <th>155</th>\n",
       "      <td>0</td>\n",
       "      <td>34100</td>\n",
       "      <td>241931.0</td>\n",
       "      <td>36486.0</td>\n",
       "      <td>DebtCon</td>\n",
       "      <td>Mgr</td>\n",
       "      <td>1.0</td>\n",
       "      <td>0.0</td>\n",
       "      <td>2.0</td>\n",
       "      <td>196.01</td>\n",
       "      <td>3.0</td>\n",
       "      <td>50.0</td>\n",
       "      <td>42.459</td>\n",
       "    </tr>\n",
       "    <tr>\n",
       "      <th>156</th>\n",
       "      <td>0</td>\n",
       "      <td>8400</td>\n",
       "      <td>62989.0</td>\n",
       "      <td>76718.0</td>\n",
       "      <td>HomeImp</td>\n",
       "      <td>Mgr</td>\n",
       "      <td>3.0</td>\n",
       "      <td>0.0</td>\n",
       "      <td>2.0</td>\n",
       "      <td>131.47</td>\n",
       "      <td>0.0</td>\n",
       "      <td>22.0</td>\n",
       "      <td>29.200</td>\n",
       "    </tr>\n",
       "    <tr>\n",
       "      <th>157</th>\n",
       "      <td>0</td>\n",
       "      <td>17400</td>\n",
       "      <td>25859.0</td>\n",
       "      <td>43684.0</td>\n",
       "      <td>DebtCon</td>\n",
       "      <td>Mgr</td>\n",
       "      <td>16.0</td>\n",
       "      <td>1.0</td>\n",
       "      <td>0.0</td>\n",
       "      <td>95.36</td>\n",
       "      <td>1.0</td>\n",
       "      <td>17.0</td>\n",
       "      <td>27.108</td>\n",
       "    </tr>\n",
       "  </tbody>\n",
       "</table>\n",
       "</div>"
      ],
      "text/plain": [
       "     bad   loan   mortdue     value   reason  job   yoj  derog  delinq  \\\n",
       "153    0  18200   94727.0  136877.0  DebtCon  Mgr  15.0    0.0     0.0   \n",
       "154    0  21700   79240.0   96784.0  DebtCon  Mgr   5.0    0.0     0.0   \n",
       "155    0  34100  241931.0   36486.0  DebtCon  Mgr   1.0    0.0     2.0   \n",
       "156    0   8400   62989.0   76718.0  HomeImp  Mgr   3.0    0.0     2.0   \n",
       "157    0  17400   25859.0   43684.0  DebtCon  Mgr  16.0    1.0     0.0   \n",
       "\n",
       "      clage  ninq  clno  debtinc  \n",
       "153  168.96   2.0  26.0   36.056  \n",
       "154   64.51   6.0  24.0   38.079  \n",
       "155  196.01   3.0  50.0   42.459  \n",
       "156  131.47   0.0  22.0   29.200  \n",
       "157   95.36   1.0  17.0   27.108  "
      ]
     },
     "execution_count": 2,
     "metadata": {},
     "output_type": "execute_result"
    }
   ],
   "source": [
    "data=pd.read_csv('hmelq.csv')\n",
    "df = data.copy()\n",
    "df = df.dropna()\n",
    "df.head()"
   ]
  },
  {
   "cell_type": "code",
   "execution_count": 3,
   "metadata": {},
   "outputs": [
    {
     "data": {
      "text/html": [
       "<div>\n",
       "<style scoped>\n",
       "    .dataframe tbody tr th:only-of-type {\n",
       "        vertical-align: middle;\n",
       "    }\n",
       "\n",
       "    .dataframe tbody tr th {\n",
       "        vertical-align: top;\n",
       "    }\n",
       "\n",
       "    .dataframe thead th {\n",
       "        text-align: right;\n",
       "    }\n",
       "</style>\n",
       "<table border=\"1\" class=\"dataframe\">\n",
       "  <thead>\n",
       "    <tr style=\"text-align: right;\">\n",
       "      <th></th>\n",
       "      <th>job_Mgr</th>\n",
       "      <th>job_Office</th>\n",
       "      <th>job_Other</th>\n",
       "      <th>job_ProfEx</th>\n",
       "      <th>job_Sales</th>\n",
       "      <th>job_Self</th>\n",
       "      <th>reason_DebtCon</th>\n",
       "      <th>reason_HomeImp</th>\n",
       "    </tr>\n",
       "  </thead>\n",
       "  <tbody>\n",
       "    <tr>\n",
       "      <th>153</th>\n",
       "      <td>1</td>\n",
       "      <td>0</td>\n",
       "      <td>0</td>\n",
       "      <td>0</td>\n",
       "      <td>0</td>\n",
       "      <td>0</td>\n",
       "      <td>1</td>\n",
       "      <td>0</td>\n",
       "    </tr>\n",
       "    <tr>\n",
       "      <th>154</th>\n",
       "      <td>1</td>\n",
       "      <td>0</td>\n",
       "      <td>0</td>\n",
       "      <td>0</td>\n",
       "      <td>0</td>\n",
       "      <td>0</td>\n",
       "      <td>1</td>\n",
       "      <td>0</td>\n",
       "    </tr>\n",
       "    <tr>\n",
       "      <th>155</th>\n",
       "      <td>1</td>\n",
       "      <td>0</td>\n",
       "      <td>0</td>\n",
       "      <td>0</td>\n",
       "      <td>0</td>\n",
       "      <td>0</td>\n",
       "      <td>1</td>\n",
       "      <td>0</td>\n",
       "    </tr>\n",
       "    <tr>\n",
       "      <th>156</th>\n",
       "      <td>1</td>\n",
       "      <td>0</td>\n",
       "      <td>0</td>\n",
       "      <td>0</td>\n",
       "      <td>0</td>\n",
       "      <td>0</td>\n",
       "      <td>0</td>\n",
       "      <td>1</td>\n",
       "    </tr>\n",
       "    <tr>\n",
       "      <th>157</th>\n",
       "      <td>1</td>\n",
       "      <td>0</td>\n",
       "      <td>0</td>\n",
       "      <td>0</td>\n",
       "      <td>0</td>\n",
       "      <td>0</td>\n",
       "      <td>1</td>\n",
       "      <td>0</td>\n",
       "    </tr>\n",
       "  </tbody>\n",
       "</table>\n",
       "</div>"
      ],
      "text/plain": [
       "     job_Mgr  job_Office  job_Other  job_ProfEx  job_Sales  job_Self  \\\n",
       "153        1           0          0           0          0         0   \n",
       "154        1           0          0           0          0         0   \n",
       "155        1           0          0           0          0         0   \n",
       "156        1           0          0           0          0         0   \n",
       "157        1           0          0           0          0         0   \n",
       "\n",
       "     reason_DebtCon  reason_HomeImp  \n",
       "153               1               0  \n",
       "154               1               0  \n",
       "155               1               0  \n",
       "156               0               1  \n",
       "157               1               0  "
      ]
     },
     "execution_count": 3,
     "metadata": {},
     "output_type": "execute_result"
    }
   ],
   "source": [
    "dms=pd.get_dummies(df[[\"job\",\"reason\"]])\n",
    "dms.head()"
   ]
  },
  {
   "cell_type": "code",
   "execution_count": 4,
   "metadata": {},
   "outputs": [
    {
     "data": {
      "text/html": [
       "<div>\n",
       "<style scoped>\n",
       "    .dataframe tbody tr th:only-of-type {\n",
       "        vertical-align: middle;\n",
       "    }\n",
       "\n",
       "    .dataframe tbody tr th {\n",
       "        vertical-align: top;\n",
       "    }\n",
       "\n",
       "    .dataframe thead th {\n",
       "        text-align: right;\n",
       "    }\n",
       "</style>\n",
       "<table border=\"1\" class=\"dataframe\">\n",
       "  <thead>\n",
       "    <tr style=\"text-align: right;\">\n",
       "      <th></th>\n",
       "      <th>loan</th>\n",
       "      <th>mortdue</th>\n",
       "      <th>value</th>\n",
       "      <th>yoj</th>\n",
       "      <th>derog</th>\n",
       "      <th>delinq</th>\n",
       "      <th>clage</th>\n",
       "      <th>ninq</th>\n",
       "      <th>clno</th>\n",
       "      <th>debtinc</th>\n",
       "      <th>job_Mgr</th>\n",
       "      <th>job_Office</th>\n",
       "      <th>job_Other</th>\n",
       "      <th>job_ProfEx</th>\n",
       "      <th>job_Sales</th>\n",
       "      <th>reason_DebtCon</th>\n",
       "    </tr>\n",
       "  </thead>\n",
       "  <tbody>\n",
       "    <tr>\n",
       "      <th>153</th>\n",
       "      <td>18200</td>\n",
       "      <td>94727.0</td>\n",
       "      <td>136877.0</td>\n",
       "      <td>15.0</td>\n",
       "      <td>0.0</td>\n",
       "      <td>0.0</td>\n",
       "      <td>168.96</td>\n",
       "      <td>2.0</td>\n",
       "      <td>26.0</td>\n",
       "      <td>36.056</td>\n",
       "      <td>1</td>\n",
       "      <td>0</td>\n",
       "      <td>0</td>\n",
       "      <td>0</td>\n",
       "      <td>0</td>\n",
       "      <td>1</td>\n",
       "    </tr>\n",
       "    <tr>\n",
       "      <th>154</th>\n",
       "      <td>21700</td>\n",
       "      <td>79240.0</td>\n",
       "      <td>96784.0</td>\n",
       "      <td>5.0</td>\n",
       "      <td>0.0</td>\n",
       "      <td>0.0</td>\n",
       "      <td>64.51</td>\n",
       "      <td>6.0</td>\n",
       "      <td>24.0</td>\n",
       "      <td>38.079</td>\n",
       "      <td>1</td>\n",
       "      <td>0</td>\n",
       "      <td>0</td>\n",
       "      <td>0</td>\n",
       "      <td>0</td>\n",
       "      <td>1</td>\n",
       "    </tr>\n",
       "    <tr>\n",
       "      <th>155</th>\n",
       "      <td>34100</td>\n",
       "      <td>241931.0</td>\n",
       "      <td>36486.0</td>\n",
       "      <td>1.0</td>\n",
       "      <td>0.0</td>\n",
       "      <td>2.0</td>\n",
       "      <td>196.01</td>\n",
       "      <td>3.0</td>\n",
       "      <td>50.0</td>\n",
       "      <td>42.459</td>\n",
       "      <td>1</td>\n",
       "      <td>0</td>\n",
       "      <td>0</td>\n",
       "      <td>0</td>\n",
       "      <td>0</td>\n",
       "      <td>1</td>\n",
       "    </tr>\n",
       "    <tr>\n",
       "      <th>156</th>\n",
       "      <td>8400</td>\n",
       "      <td>62989.0</td>\n",
       "      <td>76718.0</td>\n",
       "      <td>3.0</td>\n",
       "      <td>0.0</td>\n",
       "      <td>2.0</td>\n",
       "      <td>131.47</td>\n",
       "      <td>0.0</td>\n",
       "      <td>22.0</td>\n",
       "      <td>29.200</td>\n",
       "      <td>1</td>\n",
       "      <td>0</td>\n",
       "      <td>0</td>\n",
       "      <td>0</td>\n",
       "      <td>0</td>\n",
       "      <td>0</td>\n",
       "    </tr>\n",
       "    <tr>\n",
       "      <th>157</th>\n",
       "      <td>17400</td>\n",
       "      <td>25859.0</td>\n",
       "      <td>43684.0</td>\n",
       "      <td>16.0</td>\n",
       "      <td>1.0</td>\n",
       "      <td>0.0</td>\n",
       "      <td>95.36</td>\n",
       "      <td>1.0</td>\n",
       "      <td>17.0</td>\n",
       "      <td>27.108</td>\n",
       "      <td>1</td>\n",
       "      <td>0</td>\n",
       "      <td>0</td>\n",
       "      <td>0</td>\n",
       "      <td>0</td>\n",
       "      <td>1</td>\n",
       "    </tr>\n",
       "  </tbody>\n",
       "</table>\n",
       "</div>"
      ],
      "text/plain": [
       "      loan   mortdue     value   yoj  derog  delinq   clage  ninq  clno  \\\n",
       "153  18200   94727.0  136877.0  15.0    0.0     0.0  168.96   2.0  26.0   \n",
       "154  21700   79240.0   96784.0   5.0    0.0     0.0   64.51   6.0  24.0   \n",
       "155  34100  241931.0   36486.0   1.0    0.0     2.0  196.01   3.0  50.0   \n",
       "156   8400   62989.0   76718.0   3.0    0.0     2.0  131.47   0.0  22.0   \n",
       "157  17400   25859.0   43684.0  16.0    1.0     0.0   95.36   1.0  17.0   \n",
       "\n",
       "     debtinc  job_Mgr  job_Office  job_Other  job_ProfEx  job_Sales  \\\n",
       "153   36.056        1           0          0           0          0   \n",
       "154   38.079        1           0          0           0          0   \n",
       "155   42.459        1           0          0           0          0   \n",
       "156   29.200        1           0          0           0          0   \n",
       "157   27.108        1           0          0           0          0   \n",
       "\n",
       "     reason_DebtCon  \n",
       "153               1  \n",
       "154               1  \n",
       "155               1  \n",
       "156               0  \n",
       "157               1  "
      ]
     },
     "execution_count": 4,
     "metadata": {},
     "output_type": "execute_result"
    }
   ],
   "source": [
    "y=df[\"bad\"]\n",
    "X_=df.drop([\"job\",\"reason\",\"bad\"],axis=1)\n",
    "X=pd.concat([X_,dms[[\"job_Mgr\",\"job_Office\",\"job_Other\",\"job_ProfEx\",\"job_Sales\",\"reason_DebtCon\"]]],axis=1)\n",
    "X.head()"
   ]
  },
  {
   "cell_type": "code",
   "execution_count": 5,
   "metadata": {},
   "outputs": [],
   "source": [
    "X_train, X_test, y_train,y_test=train_test_split(X,y,test_size=0.20,random_state=42)"
   ]
  },
  {
   "cell_type": "code",
   "execution_count": 6,
   "metadata": {},
   "outputs": [
    {
     "name": "stdout",
     "output_type": "stream",
     "text": [
      "Optimization terminated successfully.\n",
      "         Current function value: 0.238483\n",
      "         Iterations 7\n"
     ]
    },
    {
     "data": {
      "text/html": [
       "<table class=\"simpletable\">\n",
       "<caption>Logit Regression Results</caption>\n",
       "<tr>\n",
       "  <th>Dep. Variable:</th>          <td>bad</td>       <th>  No. Observations:  </th>  <td>  2018</td>  \n",
       "</tr>\n",
       "<tr>\n",
       "  <th>Model:</th>                 <td>Logit</td>      <th>  Df Residuals:      </th>  <td>  2002</td>  \n",
       "</tr>\n",
       "<tr>\n",
       "  <th>Method:</th>                 <td>MLE</td>       <th>  Df Model:          </th>  <td>    15</td>  \n",
       "</tr>\n",
       "<tr>\n",
       "  <th>Date:</th>            <td>Thu, 06 Aug 2020</td> <th>  Pseudo R-squ.:     </th>  <td>0.2007</td>  \n",
       "</tr>\n",
       "<tr>\n",
       "  <th>Time:</th>                <td>12:48:33</td>     <th>  Log-Likelihood:    </th> <td> -481.26</td> \n",
       "</tr>\n",
       "<tr>\n",
       "  <th>converged:</th>             <td>True</td>       <th>  LL-Null:           </th> <td> -602.11</td> \n",
       "</tr>\n",
       "<tr>\n",
       "  <th>Covariance Type:</th>     <td>nonrobust</td>    <th>  LLR p-value:       </th> <td>6.349e-43</td>\n",
       "</tr>\n",
       "</table>\n",
       "<table class=\"simpletable\">\n",
       "<tr>\n",
       "         <td></td>           <th>coef</th>     <th>std err</th>      <th>z</th>      <th>P>|z|</th>  <th>[0.025</th>    <th>0.975]</th>  \n",
       "</tr>\n",
       "<tr>\n",
       "  <th>loan</th>           <td>-2.625e-05</td> <td> 1.07e-05</td> <td>   -2.453</td> <td> 0.014</td> <td>-4.72e-05</td> <td>-5.27e-06</td>\n",
       "</tr>\n",
       "<tr>\n",
       "  <th>mortdue</th>        <td>-4.837e-06</td> <td> 4.98e-06</td> <td>   -0.972</td> <td> 0.331</td> <td>-1.46e-05</td> <td> 4.91e-06</td>\n",
       "</tr>\n",
       "<tr>\n",
       "  <th>value</th>          <td> 1.216e-07</td> <td> 4.35e-06</td> <td>    0.028</td> <td> 0.978</td> <td>-8.41e-06</td> <td> 8.66e-06</td>\n",
       "</tr>\n",
       "<tr>\n",
       "  <th>yoj</th>            <td>   -0.0145</td> <td>    0.013</td> <td>   -1.114</td> <td> 0.265</td> <td>   -0.040</td> <td>    0.011</td>\n",
       "</tr>\n",
       "<tr>\n",
       "  <th>derog</th>          <td>    0.5742</td> <td>    0.131</td> <td>    4.388</td> <td> 0.000</td> <td>    0.318</td> <td>    0.831</td>\n",
       "</tr>\n",
       "<tr>\n",
       "  <th>delinq</th>         <td>    0.7806</td> <td>    0.091</td> <td>    8.595</td> <td> 0.000</td> <td>    0.603</td> <td>    0.959</td>\n",
       "</tr>\n",
       "<tr>\n",
       "  <th>clage</th>          <td>   -0.0066</td> <td>    0.001</td> <td>   -4.898</td> <td> 0.000</td> <td>   -0.009</td> <td>   -0.004</td>\n",
       "</tr>\n",
       "<tr>\n",
       "  <th>ninq</th>           <td>    0.0919</td> <td>    0.048</td> <td>    1.916</td> <td> 0.055</td> <td>   -0.002</td> <td>    0.186</td>\n",
       "</tr>\n",
       "<tr>\n",
       "  <th>clno</th>           <td>   -0.0369</td> <td>    0.011</td> <td>   -3.488</td> <td> 0.000</td> <td>   -0.058</td> <td>   -0.016</td>\n",
       "</tr>\n",
       "<tr>\n",
       "  <th>debtinc</th>        <td>    0.0704</td> <td>    0.010</td> <td>    6.833</td> <td> 0.000</td> <td>    0.050</td> <td>    0.091</td>\n",
       "</tr>\n",
       "<tr>\n",
       "  <th>job_Mgr</th>        <td>   -2.4682</td> <td>    0.364</td> <td>   -6.774</td> <td> 0.000</td> <td>   -3.182</td> <td>   -1.754</td>\n",
       "</tr>\n",
       "<tr>\n",
       "  <th>job_Office</th>     <td>   -3.0527</td> <td>    0.381</td> <td>   -8.013</td> <td> 0.000</td> <td>   -3.799</td> <td>   -2.306</td>\n",
       "</tr>\n",
       "<tr>\n",
       "  <th>job_Other</th>      <td>   -2.6848</td> <td>    0.317</td> <td>   -8.457</td> <td> 0.000</td> <td>   -3.307</td> <td>   -2.063</td>\n",
       "</tr>\n",
       "<tr>\n",
       "  <th>job_ProfEx</th>     <td>   -2.5181</td> <td>    0.336</td> <td>   -7.494</td> <td> 0.000</td> <td>   -3.177</td> <td>   -1.860</td>\n",
       "</tr>\n",
       "<tr>\n",
       "  <th>job_Sales</th>      <td>   -1.3558</td> <td>    0.620</td> <td>   -2.187</td> <td> 0.029</td> <td>   -2.571</td> <td>   -0.141</td>\n",
       "</tr>\n",
       "<tr>\n",
       "  <th>reason_DebtCon</th> <td>   -0.0854</td> <td>    0.193</td> <td>   -0.443</td> <td> 0.658</td> <td>   -0.463</td> <td>    0.292</td>\n",
       "</tr>\n",
       "</table>"
      ],
      "text/plain": [
       "<class 'statsmodels.iolib.summary.Summary'>\n",
       "\"\"\"\n",
       "                           Logit Regression Results                           \n",
       "==============================================================================\n",
       "Dep. Variable:                    bad   No. Observations:                 2018\n",
       "Model:                          Logit   Df Residuals:                     2002\n",
       "Method:                           MLE   Df Model:                           15\n",
       "Date:                Thu, 06 Aug 2020   Pseudo R-squ.:                  0.2007\n",
       "Time:                        12:48:33   Log-Likelihood:                -481.26\n",
       "converged:                       True   LL-Null:                       -602.11\n",
       "Covariance Type:            nonrobust   LLR p-value:                 6.349e-43\n",
       "==================================================================================\n",
       "                     coef    std err          z      P>|z|      [0.025      0.975]\n",
       "----------------------------------------------------------------------------------\n",
       "loan           -2.625e-05   1.07e-05     -2.453      0.014   -4.72e-05   -5.27e-06\n",
       "mortdue        -4.837e-06   4.98e-06     -0.972      0.331   -1.46e-05    4.91e-06\n",
       "value           1.216e-07   4.35e-06      0.028      0.978   -8.41e-06    8.66e-06\n",
       "yoj               -0.0145      0.013     -1.114      0.265      -0.040       0.011\n",
       "derog              0.5742      0.131      4.388      0.000       0.318       0.831\n",
       "delinq             0.7806      0.091      8.595      0.000       0.603       0.959\n",
       "clage             -0.0066      0.001     -4.898      0.000      -0.009      -0.004\n",
       "ninq               0.0919      0.048      1.916      0.055      -0.002       0.186\n",
       "clno              -0.0369      0.011     -3.488      0.000      -0.058      -0.016\n",
       "debtinc            0.0704      0.010      6.833      0.000       0.050       0.091\n",
       "job_Mgr           -2.4682      0.364     -6.774      0.000      -3.182      -1.754\n",
       "job_Office        -3.0527      0.381     -8.013      0.000      -3.799      -2.306\n",
       "job_Other         -2.6848      0.317     -8.457      0.000      -3.307      -2.063\n",
       "job_ProfEx        -2.5181      0.336     -7.494      0.000      -3.177      -1.860\n",
       "job_Sales         -1.3558      0.620     -2.187      0.029      -2.571      -0.141\n",
       "reason_DebtCon    -0.0854      0.193     -0.443      0.658      -0.463       0.292\n",
       "==================================================================================\n",
       "\"\"\""
      ]
     },
     "execution_count": 6,
     "metadata": {},
     "output_type": "execute_result"
    }
   ],
   "source": [
    "# statsmodel ile lojistik regresyon\n",
    "loj = sm.Logit(y, X)\n",
    "loj_model= loj.fit()\n",
    "loj_model.summary()\n",
    "# P>|z| buraya bakarak anlamasız olan değişkenleri görmüş oldun zaten bu olay katsayılara da yansımış durumda\n",
    "# r^2 değerini burda karşılaştıramazsın"
   ]
  },
  {
   "cell_type": "code",
   "execution_count": 7,
   "metadata": {},
   "outputs": [],
   "source": [
    "X=X.drop([\"mortdue\",\"reason_DebtCon\",\"yoj\",\"value\",\"ninq\"],axis=1)"
   ]
  },
  {
   "cell_type": "code",
   "execution_count": 8,
   "metadata": {},
   "outputs": [
    {
     "name": "stdout",
     "output_type": "stream",
     "text": [
      "Optimization terminated successfully.\n",
      "         Current function value: 0.240438\n",
      "         Iterations 7\n"
     ]
    },
    {
     "data": {
      "text/html": [
       "<table class=\"simpletable\">\n",
       "<caption>Logit Regression Results</caption>\n",
       "<tr>\n",
       "  <th>Dep. Variable:</th>          <td>bad</td>       <th>  No. Observations:  </th>  <td>  2018</td>  \n",
       "</tr>\n",
       "<tr>\n",
       "  <th>Model:</th>                 <td>Logit</td>      <th>  Df Residuals:      </th>  <td>  2007</td>  \n",
       "</tr>\n",
       "<tr>\n",
       "  <th>Method:</th>                 <td>MLE</td>       <th>  Df Model:          </th>  <td>    10</td>  \n",
       "</tr>\n",
       "<tr>\n",
       "  <th>Date:</th>            <td>Thu, 06 Aug 2020</td> <th>  Pseudo R-squ.:     </th>  <td>0.1942</td>  \n",
       "</tr>\n",
       "<tr>\n",
       "  <th>Time:</th>                <td>12:48:36</td>     <th>  Log-Likelihood:    </th> <td> -485.20</td> \n",
       "</tr>\n",
       "<tr>\n",
       "  <th>converged:</th>             <td>True</td>       <th>  LL-Null:           </th> <td> -602.11</td> \n",
       "</tr>\n",
       "<tr>\n",
       "  <th>Covariance Type:</th>     <td>nonrobust</td>    <th>  LLR p-value:       </th> <td>1.369e-44</td>\n",
       "</tr>\n",
       "</table>\n",
       "<table class=\"simpletable\">\n",
       "<tr>\n",
       "       <td></td>         <th>coef</th>     <th>std err</th>      <th>z</th>      <th>P>|z|</th>  <th>[0.025</th>    <th>0.975]</th>  \n",
       "</tr>\n",
       "<tr>\n",
       "  <th>loan</th>       <td>-3.055e-05</td> <td>  9.4e-06</td> <td>   -3.249</td> <td> 0.001</td> <td> -4.9e-05</td> <td>-1.21e-05</td>\n",
       "</tr>\n",
       "<tr>\n",
       "  <th>derog</th>      <td>    0.6197</td> <td>    0.129</td> <td>    4.805</td> <td> 0.000</td> <td>    0.367</td> <td>    0.873</td>\n",
       "</tr>\n",
       "<tr>\n",
       "  <th>delinq</th>     <td>    0.7805</td> <td>    0.089</td> <td>    8.788</td> <td> 0.000</td> <td>    0.606</td> <td>    0.955</td>\n",
       "</tr>\n",
       "<tr>\n",
       "  <th>clage</th>      <td>   -0.0075</td> <td>    0.001</td> <td>   -5.801</td> <td> 0.000</td> <td>   -0.010</td> <td>   -0.005</td>\n",
       "</tr>\n",
       "<tr>\n",
       "  <th>clno</th>       <td>   -0.0413</td> <td>    0.010</td> <td>   -4.087</td> <td> 0.000</td> <td>   -0.061</td> <td>   -0.021</td>\n",
       "</tr>\n",
       "<tr>\n",
       "  <th>debtinc</th>    <td>    0.0673</td> <td>    0.010</td> <td>    6.936</td> <td> 0.000</td> <td>    0.048</td> <td>    0.086</td>\n",
       "</tr>\n",
       "<tr>\n",
       "  <th>job_Mgr</th>    <td>   -2.4512</td> <td>    0.346</td> <td>   -7.094</td> <td> 0.000</td> <td>   -3.128</td> <td>   -1.774</td>\n",
       "</tr>\n",
       "<tr>\n",
       "  <th>job_Office</th> <td>   -3.0267</td> <td>    0.361</td> <td>   -8.378</td> <td> 0.000</td> <td>   -3.735</td> <td>   -2.319</td>\n",
       "</tr>\n",
       "<tr>\n",
       "  <th>job_Other</th>  <td>   -2.6384</td> <td>    0.293</td> <td>   -8.998</td> <td> 0.000</td> <td>   -3.213</td> <td>   -2.064</td>\n",
       "</tr>\n",
       "<tr>\n",
       "  <th>job_ProfEx</th> <td>   -2.5794</td> <td>    0.321</td> <td>   -8.024</td> <td> 0.000</td> <td>   -3.209</td> <td>   -1.949</td>\n",
       "</tr>\n",
       "<tr>\n",
       "  <th>job_Sales</th>  <td>   -1.3035</td> <td>    0.603</td> <td>   -2.160</td> <td> 0.031</td> <td>   -2.486</td> <td>   -0.121</td>\n",
       "</tr>\n",
       "</table>"
      ],
      "text/plain": [
       "<class 'statsmodels.iolib.summary.Summary'>\n",
       "\"\"\"\n",
       "                           Logit Regression Results                           \n",
       "==============================================================================\n",
       "Dep. Variable:                    bad   No. Observations:                 2018\n",
       "Model:                          Logit   Df Residuals:                     2007\n",
       "Method:                           MLE   Df Model:                           10\n",
       "Date:                Thu, 06 Aug 2020   Pseudo R-squ.:                  0.1942\n",
       "Time:                        12:48:36   Log-Likelihood:                -485.20\n",
       "converged:                       True   LL-Null:                       -602.11\n",
       "Covariance Type:            nonrobust   LLR p-value:                 1.369e-44\n",
       "==============================================================================\n",
       "                 coef    std err          z      P>|z|      [0.025      0.975]\n",
       "------------------------------------------------------------------------------\n",
       "loan       -3.055e-05    9.4e-06     -3.249      0.001    -4.9e-05   -1.21e-05\n",
       "derog          0.6197      0.129      4.805      0.000       0.367       0.873\n",
       "delinq         0.7805      0.089      8.788      0.000       0.606       0.955\n",
       "clage         -0.0075      0.001     -5.801      0.000      -0.010      -0.005\n",
       "clno          -0.0413      0.010     -4.087      0.000      -0.061      -0.021\n",
       "debtinc        0.0673      0.010      6.936      0.000       0.048       0.086\n",
       "job_Mgr       -2.4512      0.346     -7.094      0.000      -3.128      -1.774\n",
       "job_Office    -3.0267      0.361     -8.378      0.000      -3.735      -2.319\n",
       "job_Other     -2.6384      0.293     -8.998      0.000      -3.213      -2.064\n",
       "job_ProfEx    -2.5794      0.321     -8.024      0.000      -3.209      -1.949\n",
       "job_Sales     -1.3035      0.603     -2.160      0.031      -2.486      -0.121\n",
       "==============================================================================\n",
       "\"\"\""
      ]
     },
     "execution_count": 8,
     "metadata": {},
     "output_type": "execute_result"
    }
   ],
   "source": [
    "loj = sm.Logit(y, X)\n",
    "loj_model= loj.fit()\n",
    "loj_model.summary()"
   ]
  },
  {
   "cell_type": "code",
   "execution_count": 15,
   "metadata": {},
   "outputs": [],
   "source": [
    "#scikit-learn ile Logistic Regression"
   ]
  },
  {
   "cell_type": "code",
   "execution_count": 37,
   "metadata": {},
   "outputs": [
    {
     "data": {
      "text/plain": [
       "LogisticRegression(C=100, class_weight=None, dual=False, fit_intercept=True,\n",
       "                   intercept_scaling=1, l1_ratio=None, max_iter=100,\n",
       "                   multi_class='auto', n_jobs=None, penalty='l2',\n",
       "                   random_state=None, solver='liblinear', tol=0.0001, verbose=0,\n",
       "                   warm_start=False)"
      ]
     },
     "execution_count": 37,
     "metadata": {},
     "output_type": "execute_result"
    }
   ],
   "source": [
    "from sklearn.linear_model import LogisticRegression\n",
    "loj = LogisticRegression(C=100,solver = \"liblinear\") \n",
    "loj_model = loj.fit(X_train,y_train)\n",
    "loj_model\n",
    "# modeli train setine kurdun fit ettin\n",
    "# farklı solverlar ile model kurma kolaylığı var"
   ]
  },
  {
   "cell_type": "code",
   "execution_count": 38,
   "metadata": {},
   "outputs": [],
   "source": [
    "y_pred_train = loj_model.predict(X_train)\n",
    "# train setini verdik Tahmin değerlerini çektik."
   ]
  },
  {
   "cell_type": "code",
   "execution_count": 39,
   "metadata": {},
   "outputs": [
    {
     "data": {
      "text/plain": [
       "0.9114002478314746"
      ]
     },
     "execution_count": 39,
     "metadata": {},
     "output_type": "execute_result"
    }
   ],
   "source": [
    "accuracy_score(y_train, y_pred_train)"
   ]
  },
  {
   "cell_type": "code",
   "execution_count": 40,
   "metadata": {},
   "outputs": [
    {
     "data": {
      "text/plain": [
       "array([-0.00107713])"
      ]
     },
     "execution_count": 40,
     "metadata": {},
     "output_type": "execute_result"
    }
   ],
   "source": [
    "loj_model.intercept_\n",
    "# B0 değerini çektin"
   ]
  },
  {
   "cell_type": "code",
   "execution_count": 41,
   "metadata": {},
   "outputs": [
    {
     "data": {
      "text/plain": [
       "array([[-3.26381528e-05, -8.08265883e-07, -2.71426696e-06,\n",
       "        -8.09563793e-03,  2.07500926e-03,  4.75103336e-03,\n",
       "        -8.52121943e-03,  1.41900658e-03, -8.40155252e-03,\n",
       "         9.78130534e-03, -1.25965133e-06, -4.00666497e-04,\n",
       "        -6.97360518e-04, -2.45012503e-04,  6.11025360e-05,\n",
       "        -6.37168222e-04]])"
      ]
     },
     "execution_count": 41,
     "metadata": {},
     "output_type": "execute_result"
    }
   ],
   "source": [
    "loj_model.coef_\n",
    "# Katsayıları aldın"
   ]
  },
  {
   "cell_type": "markdown",
   "metadata": {},
   "source": [
    "## Lojistik Regresyon Tahmin & Model Tuning"
   ]
  },
  {
   "cell_type": "code",
   "execution_count": 42,
   "metadata": {},
   "outputs": [
    {
     "data": {
      "text/plain": [
       "LogisticRegression(C=100, class_weight=None, dual=False, fit_intercept=True,\n",
       "                   intercept_scaling=1, l1_ratio=None, max_iter=100,\n",
       "                   multi_class='auto', n_jobs=None, penalty='l2',\n",
       "                   random_state=None, solver='liblinear', tol=0.0001, verbose=0,\n",
       "                   warm_start=False)"
      ]
     },
     "execution_count": 42,
     "metadata": {},
     "output_type": "execute_result"
    }
   ],
   "source": [
    "loj_model"
   ]
  },
  {
   "cell_type": "code",
   "execution_count": 43,
   "metadata": {},
   "outputs": [],
   "source": [
    "y_pred = loj_model.predict(X_test)\n",
    "# test setini verdik Tahmin değerlerini çektik."
   ]
  },
  {
   "cell_type": "code",
   "execution_count": 44,
   "metadata": {},
   "outputs": [
    {
     "data": {
      "text/plain": [
       "array([[369,   0],\n",
       "       [ 35,   0]])"
      ]
     },
     "execution_count": 44,
     "metadata": {},
     "output_type": "execute_result"
    }
   ],
   "source": [
    "confusion_matrix(y_test, y_pred)\n",
    "# gücü düşük hastaları tespitte oran çok düşük "
   ]
  },
  {
   "cell_type": "code",
   "execution_count": 45,
   "metadata": {},
   "outputs": [
    {
     "data": {
      "image/png": "[encoded data removed]",
      "text/plain": [
       "<Figure size 432x288 with 2 Axes>"
      ]
     },
     "metadata": {
      "needs_background": "light"
     },
     "output_type": "display_data"
    }
   ],
   "source": [
    "from sklearn.metrics import confusion_matrix as cm\n",
    "predictions = loj_model.predict(X_test)\n",
    "score = round(accuracy_score(y_test, predictions), 3)\n",
    "cm1 = cm(y_test, predictions)\n",
    "sns.heatmap(cm1, annot=True, fmt=\".0f\")\n",
    "plt.xlabel('Predicted Values')\n",
    "plt.ylabel('Actual Values')\n",
    "plt.title('Accuracy Score: {0}'.format(score), size = 15)\n",
    "plt.show()"
   ]
  },
  {
   "cell_type": "code",
   "execution_count": 46,
   "metadata": {},
   "outputs": [
    {
     "data": {
      "text/plain": [
       "0.9133663366336634"
      ]
     },
     "execution_count": 46,
     "metadata": {},
     "output_type": "execute_result"
    }
   ],
   "source": [
    "accuracy_score(y_test, y_pred)\n",
    "# accuracy oranımız bu şekilde geldi.\n"
   ]
  },
  {
   "cell_type": "code",
   "execution_count": null,
   "metadata": {},
   "outputs": [],
   "source": []
  },
  {
   "cell_type": "code",
   "execution_count": 47,
   "metadata": {},
   "outputs": [
    {
     "name": "stdout",
     "output_type": "stream",
     "text": [
      "              precision    recall  f1-score   support\n",
      "\n",
      "           0       0.91      1.00      0.95       369\n",
      "           1       0.00      0.00      0.00        35\n",
      "\n",
      "    accuracy                           0.91       404\n",
      "   macro avg       0.46      0.50      0.48       404\n",
      "weighted avg       0.83      0.91      0.87       404\n",
      "\n"
     ]
    }
   ],
   "source": [
    "print(classification_report(y_test, y_pred))\n",
    "# sınıflandırma ile ilgili detaylı bilgi almamızı sağlayan output\n"
   ]
  },
  {
   "cell_type": "code",
   "execution_count": 48,
   "metadata": {},
   "outputs": [
    {
     "data": {
      "text/plain": [
       "array([[0.94586138, 0.05413862],\n",
       "       [0.94829396, 0.05170604],\n",
       "       [0.91500715, 0.08499285],\n",
       "       [0.97399779, 0.02600221],\n",
       "       [0.82309979, 0.17690021],\n",
       "       [0.75153111, 0.24846889],\n",
       "       [0.79765053, 0.20234947],\n",
       "       [0.94960568, 0.05039432],\n",
       "       [0.99463316, 0.00536684],\n",
       "       [0.94046863, 0.05953137]])"
      ]
     },
     "execution_count": 48,
     "metadata": {},
     "output_type": "execute_result"
    }
   ],
   "source": [
    "loj_model.predict_proba(X_test)[0:10][:,0:2]\n",
    "# burda ilk 10 gözlemin 0 ve 1 olma olasılıklarını görmüş olduk"
   ]
  },
  {
   "cell_type": "code",
   "execution_count": 49,
   "metadata": {},
   "outputs": [
    {
     "data": {
      "image/png": "[encoded data removed]",
      "text/plain": [
       "<Figure size 432x288 with 1 Axes>"
      ]
     },
     "metadata": {
      "needs_background": "light"
     },
     "output_type": "display_data"
    }
   ],
   "source": [
    "# ROC eğrisi çizdiriyoruz.\n",
    "logit_roc_auc = roc_auc_score(y_test, loj_model.predict(X_test))# burdaki score öenmli\n",
    "\n",
    "fpr, tpr, thresholds = roc_curve(y_test, loj_model.predict_proba(X_test)[:,1])\n",
    "plt.figure()\n",
    "plt.plot(fpr, tpr, label='AUC (area = %0.2f)' % logit_roc_auc)\n",
    "plt.plot([0, 1], [0, 1],'r--')\n",
    "plt.xlim([0.0, 1.0])\n",
    "plt.ylim([0.0, 1.05])\n",
    "plt.xlabel('False Positive Oranı')\n",
    "plt.ylabel('True Positive Oranı')\n",
    "plt.title('ROC')\n",
    "plt.show()"
   ]
  },
  {
   "cell_type": "code",
   "execution_count": 50,
   "metadata": {},
   "outputs": [
    {
     "data": {
      "text/plain": [
       "0.5"
      ]
     },
     "execution_count": 50,
     "metadata": {},
     "output_type": "execute_result"
    }
   ],
   "source": [
    "logit_roc_auc = roc_auc_score(y_test, loj_model.predict(X_test))\n",
    "logit_roc_auc \n",
    "# altta kalan alan"
   ]
  },
  {
   "cell_type": "code",
   "execution_count": 51,
   "metadata": {},
   "outputs": [
    {
     "data": {
      "text/plain": [
       "array([0.90243902, 0.92682927, 0.90243902, 0.90243902, 0.925     ,\n",
       "       0.925     , 0.925     , 0.9       , 0.925     , 0.9       ])"
      ]
     },
     "execution_count": 51,
     "metadata": {},
     "output_type": "execute_result"
    }
   ],
   "source": [
    "cross_val_score(loj_model, X_test, y_test, cv = 10)\n",
    "# train seti için 10 katlı cross-val yaptık ve ortalamasını aldık"
   ]
  },
  {
   "cell_type": "code",
   "execution_count": 52,
   "metadata": {},
   "outputs": [
    {
     "data": {
      "text/plain": [
       "0.9134146341463415"
      ]
     },
     "execution_count": 52,
     "metadata": {},
     "output_type": "execute_result"
    }
   ],
   "source": [
    "cross_val_score(loj_model, X_test, y_test, cv = 10).mean()"
   ]
  }
 ],
 "metadata": {
  "kernelspec": {
   "display_name": "Python 3",
   "language": "python",
   "name": "python3"
  },
  "language_info": {
   "codemirror_mode": {
    "name": "ipython",
    "version": 3
   },
   "file_extension": ".py",
   "mimetype": "text/x-python",
   "name": "python",
   "nbconvert_exporter": "python",
   "pygments_lexer": "ipython3",
   "version": "3.7.6"
  }
 },
 "nbformat": 4,
 "nbformat_minor": 4
}
